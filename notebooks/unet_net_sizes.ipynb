{
 "cells": [
  {
   "cell_type": "code",
   "execution_count": 1,
   "id": "318266f9",
   "metadata": {},
   "outputs": [],
   "source": [
    "%load_ext autoreload\n",
    "%autoreload 2"
   ]
  },
  {
   "cell_type": "code",
   "execution_count": 11,
   "id": "3a4e9ec9",
   "metadata": {},
   "outputs": [],
   "source": [
    "# Standard numerical libraries:\n",
    "import numpy as np\n",
    "import matplotlib.pyplot as plt\n",
    "\n",
    "# Standard deep-learning/machine-learning libraries:\n",
    "import tensorflow as tf\n",
    "from tensorflow_examples.models.pix2pix import pix2pix\n",
    "from sklearn.model_selection import train_test_split\n",
    "\n",
    "# Our lung-xray analysis libraries:\n",
    "from xrayproject.utils_DAM import load_train, load_masks\n",
    "from xrayproject.preprocessing import normalize, flip_resize, resize_test\n",
    "from xrayproject import segmentation_DAM"
   ]
  },
  {
   "cell_type": "code",
   "execution_count": 12,
   "id": "97fa2d23",
   "metadata": {},
   "outputs": [],
   "source": [
    "path_image_DAM = '../raw_data/raw_PRC/CXR_png/'\n",
    "path_mask_DAM = '../raw_data/raw_PRC/CXR_mask/'"
   ]
  },
  {
   "cell_type": "code",
   "execution_count": 21,
   "id": "90e7a837",
   "metadata": {},
   "outputs": [],
   "source": [
    "unet_size_list = [96, 128, 160, 192, 224]"
   ]
  },
  {
   "cell_type": "code",
   "execution_count": 18,
   "id": "02471a36",
   "metadata": {},
   "outputs": [],
   "source": [
    "def unet_modeller(unet_size=128, epochs=100, n_build=110, n_print=10):\n",
    "    masks_all, targets_all, ID_all = load_masks(n_build, get_all = False, \\\n",
    "                                                get_random = True, balanced = True, path = path_mask_DAM)\n",
    "    masks = masks_all[0:n_build-n_print]\n",
    "    images_all, IDs_all = load_train(ID_all, path = path_image_DAM)\n",
    "    images = images_all[0:n_build-n_print]\n",
    "    resized = [flip_resize(images[i], masks[i], input_shape=(unet_size, unet_size)) \\\n",
    "               for i in range(len(images))]\n",
    "    seg_model = segmentation_DAM.Segmentation_UNET()\n",
    "    seg_model.base_model()\n",
    "    seg_model.unet_model()\n",
    "    seg_model.initialize_model()\n",
    "    seg_model.train(images, masks)\n",
    "    return \"HI\""
   ]
  },
  {
   "cell_type": "code",
   "execution_count": 23,
   "id": "30e071e0",
   "metadata": {},
   "outputs": [
    {
     "name": "stdout",
     "output_type": "stream",
     "text": [
      "Using path:  ../raw_data/raw_PRC/CXR_mask/\n",
      "Using bucket \n",
      "Initializing model...\n",
      "Preprocessing...\n",
      "Initializing model...\n",
      "Starting train..\n",
      "Epoch 1/10\n",
      "1/1 [==============================] - 4s 4s/step - loss: 1.0579 - accuracy: 0.4954\n",
      "Epoch 2/10\n",
      "1/1 [==============================] - 1s 861ms/step - loss: 0.9684 - accuracy: 0.5068\n",
      "Epoch 3/10\n",
      "1/1 [==============================] - 1s 866ms/step - loss: 0.8851 - accuracy: 0.5198\n",
      "Epoch 4/10\n",
      "1/1 [==============================] - 1s 871ms/step - loss: 0.8038 - accuracy: 0.5469\n",
      "Epoch 5/10\n",
      "1/1 [==============================] - 1s 900ms/step - loss: 0.7311 - accuracy: 0.6000\n",
      "Epoch 6/10\n",
      "1/1 [==============================] - 1s 854ms/step - loss: 0.6686 - accuracy: 0.6448\n",
      "Epoch 7/10\n",
      "1/1 [==============================] - 1s 884ms/step - loss: 0.6173 - accuracy: 0.6771\n",
      "Epoch 8/10\n",
      "1/1 [==============================] - 1s 872ms/step - loss: 0.5750 - accuracy: 0.7070\n",
      "Epoch 9/10\n",
      "1/1 [==============================] - 1s 857ms/step - loss: 0.5380 - accuracy: 0.7414\n",
      "Epoch 10/10\n",
      "1/1 [==============================] - 1s 896ms/step - loss: 0.5049 - accuracy: 0.7813\n"
     ]
    },
    {
     "data": {
      "text/plain": [
       "'HI'"
      ]
     },
     "execution_count": 23,
     "metadata": {},
     "output_type": "execute_result"
    }
   ],
   "source": [
    "unet_modeller(unet_size=128, epochs=2, n_build=11, n_print=3)"
   ]
  },
  {
   "cell_type": "code",
   "execution_count": null,
   "id": "974171c8",
   "metadata": {},
   "outputs": [],
   "source": []
  }
 ],
 "metadata": {
  "kernelspec": {
   "display_name": "Python 3",
   "language": "python",
   "name": "python3"
  },
  "language_info": {
   "codemirror_mode": {
    "name": "ipython",
    "version": 3
   },
   "file_extension": ".py",
   "mimetype": "text/x-python",
   "name": "python",
   "nbconvert_exporter": "python",
   "pygments_lexer": "ipython3",
   "version": "3.8.6"
  }
 },
 "nbformat": 4,
 "nbformat_minor": 5
}
