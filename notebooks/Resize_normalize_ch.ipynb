{
 "cells": [
  {
   "cell_type": "markdown",
   "id": "9b09b32e",
   "metadata": {},
   "source": [
    "### Resize training data (mask + images)"
   ]
  },
  {
   "cell_type": "code",
   "execution_count": null,
   "id": "666e23e6",
   "metadata": {},
   "outputs": [],
   "source": [
    "resized = [flip_resize(mask[i], images[i], input_shape=(224,224)) for i in range(len(images))]\n"
   ]
  },
  {
   "cell_type": "markdown",
   "id": "c041736a",
   "metadata": {},
   "source": [
    "### Normalize training data (mask + images )"
   ]
  },
  {
   "cell_type": "code",
   "execution_count": null,
   "id": "bd7e9e1d",
   "metadata": {},
   "outputs": [],
   "source": [
    "def normalize(input_image, input_mask):\n",
    "    input_image = tf.cast(input_image, tf.float32) / 255.0\n",
    "    input_mask = tf.cast(input_mask, tf.float32) / 255.0\n",
    "    return input_image, input_mask"
   ]
  },
  {
   "cell_type": "markdown",
   "id": "6cc3e681",
   "metadata": {},
   "source": [
    "### Resize after segmentation "
   ]
  },
  {
   "cell_type": "code",
   "execution_count": null,
   "id": "49ee06f7",
   "metadata": {},
   "outputs": [],
   "source": [
    "def resize_normalize(input_image, input_mask, input_shape=(2897, 2499)):\n",
    "    resized_image = tf.image.resize(input_image, input_shape)\n",
    "    resized_mask = tf.image.resize(input_mask, input_shape)\n",
    "    \n",
    "    norm_image = tf.cast(resized_image, tf.float32) / 255.0\n",
    "    norm_mask = tf.cast(resized_mask, tf.float32) / 255.0\n",
    "    return norm_image, norm_mask"
   ]
  },
  {
   "cell_type": "markdown",
   "id": "a562cb49",
   "metadata": {},
   "source": [
    "### Resize and normalize user image"
   ]
  },
  {
   "cell_type": "code",
   "execution_count": null,
   "id": "4802709c",
   "metadata": {},
   "outputs": [],
   "source": [
    "def normalize(input_image, input_mask):\n",
    "    input_image = tf.cast(input_image, tf.float32) / 255.0\n",
    "    input_mask = tf.cast(input_mask, tf.float32) / 255.0\n",
    "    return input_image, input_mask\n",
    "\n",
    "\n",
    "def flip_resize(image, mask, input_shape=(2897, 2499)):\n",
    "    input_image = tf.image.resize(image, input_shape)\n",
    "    input_mask = tf.image.resize(mask, input_shape)\n",
    "\n",
    "    input_image, input_mask = normalize(input_image, input_mask)\n",
    "\n",
    "    input_image_flipped = tf.image.flip_left_right(input_image)\n",
    "    input_mask_flipped = tf.image.flip_left_right(input_mask)\n",
    "\n",
    "    return input_image, input_mask, input_image_flipped, input_mask_flipped\n",
    "\n",
    "    "
   ]
  },
  {
   "cell_type": "markdown",
   "id": "afbe662c",
   "metadata": {},
   "source": [
    "### Resize user image after mask applied"
   ]
  },
  {
   "cell_type": "code",
   "execution_count": null,
   "id": "6a41000d",
   "metadata": {},
   "outputs": [],
   "source": []
  }
 ],
 "metadata": {
  "kernelspec": {
   "display_name": "Python 3",
   "language": "python",
   "name": "python3"
  },
  "language_info": {
   "codemirror_mode": {
    "name": "ipython",
    "version": 3
   },
   "file_extension": ".py",
   "mimetype": "text/x-python",
   "name": "python",
   "nbconvert_exporter": "python",
   "pygments_lexer": "ipython3",
   "version": "3.9.5"
  }
 },
 "nbformat": 4,
 "nbformat_minor": 5
}
