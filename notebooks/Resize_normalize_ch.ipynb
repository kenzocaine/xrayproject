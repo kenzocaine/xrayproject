{
 "cells": [
  {
   "cell_type": "markdown",
   "id": "b3994319",
   "metadata": {},
   "source": [
    "### Resize training data (mask + images)"
   ]
  },
  {
   "cell_type": "code",
   "execution_count": null,
   "id": "4cda282f",
   "metadata": {},
   "outputs": [],
   "source": [
    "resized = [flip_resize(mask[i], images[i], input_shape=(224,224)) for i in range(len(images))]\n"
   ]
  },
  {
   "cell_type": "markdown",
   "id": "a962a56c",
   "metadata": {},
   "source": [
    "### Normalize training data (mask + images )"
   ]
  },
  {
   "cell_type": "code",
   "execution_count": null,
   "id": "2ecf5580",
   "metadata": {},
   "outputs": [],
   "source": [
    "def normalize(input_image, input_mask):\n",
    "    input_image = tf.cast(input_image, tf.float32) / 255.0\n",
    "    input_mask = tf.cast(input_mask, tf.float32) / 255.0\n",
    "    return input_image, input_mask"
   ]
  },
  {
   "cell_type": "markdown",
   "id": "22728fdd",
   "metadata": {},
   "source": [
    "### Resize after segmentation "
   ]
  },
  {
   "cell_type": "code",
   "execution_count": null,
   "id": "fec2c9fa",
   "metadata": {},
   "outputs": [],
   "source": [
    "def resize_normalize(input_image, input_mask, input_shape=(224, 224)):\n",
    "    input_image = tf.image.resize(input_image, input_shape)\n",
    "    input_mask = tf.image.resize(input_mask, input_shape)\n",
    "    input_image = tf.cast(input_image, tf.float32) / 255.0\n",
    "    input_mask = tf.cast(input_mask, tf.float32) / 255.0\n",
    "    return input_image, input_mask"
   ]
  },
  {
   "cell_type": "code",
   "execution_count": 5,
   "id": "67c87026",
   "metadata": {},
   "outputs": [],
   "source": [
    "def test(x):\n",
    "    x = 5*2\n",
    "    x = x+5\n",
    "    return x"
   ]
  },
  {
   "cell_type": "code",
   "execution_count": 6,
   "id": "766f234b",
   "metadata": {},
   "outputs": [
    {
     "data": {
      "text/plain": [
       "15"
      ]
     },
     "execution_count": 6,
     "metadata": {},
     "output_type": "execute_result"
    }
   ],
   "source": [
    "test(5)"
   ]
  },
  {
   "cell_type": "code",
   "execution_count": null,
   "id": "eef1f7fb",
   "metadata": {},
   "outputs": [],
   "source": []
  }
 ],
 "metadata": {
  "kernelspec": {
   "display_name": "Python 3",
   "language": "python",
   "name": "python3"
  },
  "language_info": {
   "codemirror_mode": {
    "name": "ipython",
    "version": 3
   },
   "file_extension": ".py",
   "mimetype": "text/x-python",
   "name": "python",
   "nbconvert_exporter": "python",
   "pygments_lexer": "ipython3",
   "version": "3.9.5"
  }
 },
 "nbformat": 4,
 "nbformat_minor": 5
}
