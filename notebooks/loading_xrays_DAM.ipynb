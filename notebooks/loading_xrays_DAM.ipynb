{
 "cells": [
  {
   "cell_type": "code",
   "execution_count": 6,
   "id": "47b36359",
   "metadata": {},
   "outputs": [
    {
     "name": "stdout",
     "output_type": "stream",
     "text": [
      "The autoreload extension is already loaded. To reload it, use:\n",
      "  %reload_ext autoreload\n"
     ]
    }
   ],
   "source": [
    "%load_ext autoreload\n",
    "%autoreload 2\n",
    "from xrayproject.utils import load_train, load_masks\n",
    "import xrayproject.utils"
   ]
  },
  {
   "cell_type": "code",
   "execution_count": 7,
   "id": "da4d7138",
   "metadata": {},
   "outputs": [
    {
     "name": "stdout",
     "output_type": "stream",
     "text": [
      "Using path:  ../raw_data/raw_PRC/CXR_mask/\n",
      "Using bucket \n",
      "Loading local file:  ../raw_data/raw_PRC/CXR_mask/CHNCXR_0439_1_mask.png\n",
      "Loading local file:  ../raw_data/raw_PRC/CXR_mask/CHNCXR_0658_1_mask.png\n",
      "Loading local file:  ../raw_data/raw_PRC/CXR_mask/CHNCXR_0447_1_mask.png\n",
      "Loading local file:  ../raw_data/raw_PRC/CXR_mask/CHNCXR_0517_1_mask.png\n",
      "Loading local file:  ../raw_data/raw_PRC/CXR_mask/CHNCXR_0469_1_mask.png\n",
      "Loading local file:  ../raw_data/raw_PRC/CXR_mask/CHNCXR_0619_1_mask.png\n",
      "Loading local file:  ../raw_data/raw_PRC/CXR_mask/CHNCXR_0406_1_mask.png\n",
      "Loading local file:  ../raw_data/raw_PRC/CXR_mask/CHNCXR_0389_1_mask.png\n",
      "Loading local file:  ../raw_data/raw_PRC/CXR_mask/CHNCXR_0608_1_mask.png\n",
      "Loading local file:  ../raw_data/raw_PRC/CXR_mask/CHNCXR_0377_1_mask.png\n",
      "Loading local file:  ../raw_data/raw_PRC/CXR_mask/CHNCXR_0618_1_mask.png\n",
      "Loading local file:  ../raw_data/raw_PRC/CXR_mask/CHNCXR_0433_1_mask.png\n",
      "Loading local file:  ../raw_data/raw_PRC/CXR_mask/CHNCXR_0552_1_mask.png\n",
      "Loading local file:  ../raw_data/raw_PRC/CXR_mask/CHNCXR_0456_1_mask.png\n",
      "Loading local file:  ../raw_data/raw_PRC/CXR_mask/CHNCXR_0519_1_mask.png\n",
      "Loading local file:  ../raw_data/raw_PRC/CXR_mask/CHNCXR_0640_1_mask.png\n",
      "Loading local file:  ../raw_data/raw_PRC/CXR_mask/CHNCXR_0402_1_mask.png\n",
      "Loading local file:  ../raw_data/raw_PRC/CXR_mask/CHNCXR_0616_1_mask.png\n",
      "Loading local file:  ../raw_data/raw_PRC/CXR_mask/CHNCXR_0593_1_mask.png\n",
      "Loading local file:  ../raw_data/raw_PRC/CXR_mask/CHNCXR_0655_1_mask.png\n",
      "Loading local file:  ../raw_data/raw_PRC/CXR_mask/CHNCXR_0403_1_mask.png\n",
      "Loading local file:  ../raw_data/raw_PRC/CXR_mask/CHNCXR_0340_1_mask.png\n",
      "Loading local file:  ../raw_data/raw_PRC/CXR_mask/CHNCXR_0567_1_mask.png\n",
      "Loading local file:  ../raw_data/raw_PRC/CXR_mask/CHNCXR_0534_1_mask.png\n",
      "Loading local file:  ../raw_data/raw_PRC/CXR_mask/CHNCXR_0380_1_mask.png\n",
      "Loading local file:  ../raw_data/raw_PRC/CXR_mask/CHNCXR_0059_0_mask.png\n",
      "Loading local file:  ../raw_data/raw_PRC/CXR_mask/CHNCXR_0078_0_mask.png\n",
      "Loading local file:  ../raw_data/raw_PRC/CXR_mask/CHNCXR_0138_0_mask.png\n",
      "Loading local file:  ../raw_data/raw_PRC/CXR_mask/CHNCXR_0104_0_mask.png\n",
      "Loading local file:  ../raw_data/raw_PRC/CXR_mask/CHNCXR_0247_0_mask.png\n",
      "Loading local file:  ../raw_data/raw_PRC/CXR_mask/CHNCXR_0290_0_mask.png\n",
      "Loading local file:  ../raw_data/raw_PRC/CXR_mask/CHNCXR_0143_0_mask.png\n",
      "Loading local file:  ../raw_data/raw_PRC/CXR_mask/CHNCXR_0229_0_mask.png\n",
      "Loading local file:  ../raw_data/raw_PRC/CXR_mask/CHNCXR_0284_0_mask.png\n",
      "Loading local file:  ../raw_data/raw_PRC/CXR_mask/CHNCXR_0136_0_mask.png\n",
      "Loading local file:  ../raw_data/raw_PRC/CXR_mask/CHNCXR_0016_0_mask.png\n",
      "Loading local file:  ../raw_data/raw_PRC/CXR_mask/CHNCXR_0058_0_mask.png\n",
      "Loading local file:  ../raw_data/raw_PRC/CXR_mask/CHNCXR_0155_0_mask.png\n",
      "Loading local file:  ../raw_data/raw_PRC/CXR_mask/CHNCXR_0261_0_mask.png\n",
      "Loading local file:  ../raw_data/raw_PRC/CXR_mask/CHNCXR_0282_0_mask.png\n",
      "Loading local file:  ../raw_data/raw_PRC/CXR_mask/CHNCXR_0248_0_mask.png\n",
      "Loading local file:  ../raw_data/raw_PRC/CXR_mask/CHNCXR_0024_0_mask.png\n",
      "Loading local file:  ../raw_data/raw_PRC/CXR_mask/CHNCXR_0274_0_mask.png\n",
      "Loading local file:  ../raw_data/raw_PRC/CXR_mask/CHNCXR_0135_0_mask.png\n",
      "Loading local file:  ../raw_data/raw_PRC/CXR_mask/CHNCXR_0124_0_mask.png\n",
      "Loading local file:  ../raw_data/raw_PRC/CXR_mask/CHNCXR_0064_0_mask.png\n",
      "Loading local file:  ../raw_data/raw_PRC/CXR_mask/CHNCXR_0101_0_mask.png\n",
      "Loading local file:  ../raw_data/raw_PRC/CXR_mask/CHNCXR_0260_0_mask.png\n",
      "Loading local file:  ../raw_data/raw_PRC/CXR_mask/CHNCXR_0258_0_mask.png\n",
      "Loading local file:  ../raw_data/raw_PRC/CXR_mask/CHNCXR_0240_0_mask.png\n"
     ]
    }
   ],
   "source": [
    "path_image = '../raw_data/raw_PRC/CXR_png/'\n",
    "path_mask = '../raw_data/raw_PRC/CXR_mask/'\n",
    "\n",
    "masks, targets, ID = load_masks(50, get_all = False, get_random = True, balanced = True, path = path_mask)"
   ]
  },
  {
   "cell_type": "code",
   "execution_count": 8,
   "id": "12dfbd63",
   "metadata": {},
   "outputs": [
    {
     "name": "stdout",
     "output_type": "stream",
     "text": [
      "Loading local file:  ../raw_data/raw_PRC/CXR_png/CHNCXR_0433_1.png\n",
      "Loading local file:  ../raw_data/raw_PRC/CXR_png/CHNCXR_0655_1.png\n",
      "Loading local file:  ../raw_data/raw_PRC/CXR_png/CHNCXR_0124_0.png\n",
      "Loading local file:  ../raw_data/raw_PRC/CXR_png/CHNCXR_0260_0.png\n",
      "Loading local file:  ../raw_data/raw_PRC/CXR_png/CHNCXR_0058_0.png\n",
      "Loading local file:  ../raw_data/raw_PRC/CXR_png/CHNCXR_0380_1.png\n",
      "Loading local file:  ../raw_data/raw_PRC/CXR_png/CHNCXR_0284_0.png\n",
      "Loading local file:  ../raw_data/raw_PRC/CXR_png/CHNCXR_0340_1.png\n",
      "Loading local file:  ../raw_data/raw_PRC/CXR_png/CHNCXR_0104_0.png\n",
      "Loading local file:  ../raw_data/raw_PRC/CXR_png/CHNCXR_0240_0.png\n",
      "Loading local file:  ../raw_data/raw_PRC/CXR_png/CHNCXR_0024_0.png\n",
      "Loading local file:  ../raw_data/raw_PRC/CXR_png/CHNCXR_0469_1.png\n",
      "Loading local file:  ../raw_data/raw_PRC/CXR_png/CHNCXR_0078_0.png\n",
      "Loading local file:  ../raw_data/raw_PRC/CXR_png/CHNCXR_0552_1.png\n",
      "Loading local file:  ../raw_data/raw_PRC/CXR_png/CHNCXR_0517_1.png\n",
      "Loading local file:  ../raw_data/raw_PRC/CXR_png/CHNCXR_0616_1.png\n",
      "Loading local file:  ../raw_data/raw_PRC/CXR_png/CHNCXR_0282_0.png\n",
      "Loading local file:  ../raw_data/raw_PRC/CXR_png/CHNCXR_0143_0.png\n",
      "Loading local file:  ../raw_data/raw_PRC/CXR_png/CHNCXR_0456_1.png\n",
      "Loading local file:  ../raw_data/raw_PRC/CXR_png/CHNCXR_0261_0.png\n",
      "Loading local file:  ../raw_data/raw_PRC/CXR_png/CHNCXR_0534_1.png\n",
      "Loading local file:  ../raw_data/raw_PRC/CXR_png/CHNCXR_0064_0.png\n",
      "Loading local file:  ../raw_data/raw_PRC/CXR_png/CHNCXR_0101_0.png\n",
      "Loading local file:  ../raw_data/raw_PRC/CXR_png/CHNCXR_0059_0.png\n",
      "Loading local file:  ../raw_data/raw_PRC/CXR_png/CHNCXR_0608_1.png\n",
      "Loading local file:  ../raw_data/raw_PRC/CXR_png/CHNCXR_0247_0.png\n",
      "Loading local file:  ../raw_data/raw_PRC/CXR_png/CHNCXR_0593_1.png\n",
      "Loading local file:  ../raw_data/raw_PRC/CXR_png/CHNCXR_0138_0.png\n",
      "Loading local file:  ../raw_data/raw_PRC/CXR_png/CHNCXR_0258_0.png\n",
      "Loading local file:  ../raw_data/raw_PRC/CXR_png/CHNCXR_0155_0.png\n",
      "Loading local file:  ../raw_data/raw_PRC/CXR_png/CHNCXR_0619_1.png\n",
      "Loading local file:  ../raw_data/raw_PRC/CXR_png/CHNCXR_0389_1.png\n",
      "Loading local file:  ../raw_data/raw_PRC/CXR_png/CHNCXR_0136_0.png\n",
      "Loading local file:  ../raw_data/raw_PRC/CXR_png/CHNCXR_0016_0.png\n",
      "Loading local file:  ../raw_data/raw_PRC/CXR_png/CHNCXR_0403_1.png\n",
      "Loading local file:  ../raw_data/raw_PRC/CXR_png/CHNCXR_0274_0.png\n",
      "Loading local file:  ../raw_data/raw_PRC/CXR_png/CHNCXR_0658_1.png\n",
      "Loading local file:  ../raw_data/raw_PRC/CXR_png/CHNCXR_0290_0.png\n",
      "Loading local file:  ../raw_data/raw_PRC/CXR_png/CHNCXR_0377_1.png\n",
      "Loading local file:  ../raw_data/raw_PRC/CXR_png/CHNCXR_0406_1.png\n",
      "Loading local file:  ../raw_data/raw_PRC/CXR_png/CHNCXR_0439_1.png\n",
      "Loading local file:  ../raw_data/raw_PRC/CXR_png/CHNCXR_0618_1.png\n",
      "Loading local file:  ../raw_data/raw_PRC/CXR_png/CHNCXR_0519_1.png\n",
      "Loading local file:  ../raw_data/raw_PRC/CXR_png/CHNCXR_0135_0.png\n",
      "Loading local file:  ../raw_data/raw_PRC/CXR_png/CHNCXR_0640_1.png\n",
      "Loading local file:  ../raw_data/raw_PRC/CXR_png/CHNCXR_0248_0.png\n",
      "Loading local file:  ../raw_data/raw_PRC/CXR_png/CHNCXR_0229_0.png\n",
      "Loading local file:  ../raw_data/raw_PRC/CXR_png/CHNCXR_0447_1.png\n",
      "Loading local file:  ../raw_data/raw_PRC/CXR_png/CHNCXR_0402_1.png\n",
      "Loading local file:  ../raw_data/raw_PRC/CXR_png/CHNCXR_0567_1.png\n"
     ]
    }
   ],
   "source": [
    "images, ID = load_train(ID, path=path_image)"
   ]
  },
  {
   "cell_type": "code",
   "execution_count": 4,
   "id": "83f45b10",
   "metadata": {},
   "outputs": [
    {
     "data": {
      "text/plain": [
       "[478,\n",
       " 539,\n",
       " 426,\n",
       " 575,\n",
       " 410,\n",
       " 568,\n",
       " 551,\n",
       " 512,\n",
       " 367,\n",
       " 607,\n",
       " 610,\n",
       " 657,\n",
       " 630,\n",
       " 566,\n",
       " 539,\n",
       " 549,\n",
       " 536,\n",
       " 596,\n",
       " 539,\n",
       " 548,\n",
       " 612,\n",
       " 542,\n",
       " 479,\n",
       " 606,\n",
       " 548,\n",
       " 112,\n",
       " 114,\n",
       " 225,\n",
       " 283,\n",
       " 180,\n",
       " 10,\n",
       " 8,\n",
       " 19,\n",
       " 270,\n",
       " 125,\n",
       " 317,\n",
       " 281,\n",
       " 79,\n",
       " 79,\n",
       " 35,\n",
       " 261,\n",
       " 118,\n",
       " 251,\n",
       " 155,\n",
       " 161,\n",
       " 89,\n",
       " 164,\n",
       " 167,\n",
       " 244,\n",
       " 297]"
      ]
     },
     "execution_count": 4,
     "metadata": {},
     "output_type": "execute_result"
    }
   ],
   "source": [
    "ID"
   ]
  },
  {
   "cell_type": "code",
   "execution_count": 5,
   "id": "0dc3df25",
   "metadata": {},
   "outputs": [],
   "source": [
    "for mask in masks:\n",
    "    if type(mask) == int:\n",
    "        print(mask)"
   ]
  },
  {
   "cell_type": "code",
   "execution_count": 6,
   "id": "7f110e58",
   "metadata": {},
   "outputs": [
    {
     "data": {
      "text/plain": [
       "50"
      ]
     },
     "execution_count": 6,
     "metadata": {},
     "output_type": "execute_result"
    }
   ],
   "source": [
    "len(masks)"
   ]
  },
  {
   "cell_type": "code",
   "execution_count": 7,
   "id": "f32425eb",
   "metadata": {},
   "outputs": [
    {
     "data": {
      "text/plain": [
       "[478,\n",
       " 539,\n",
       " 426,\n",
       " 575,\n",
       " 410,\n",
       " 568,\n",
       " 551,\n",
       " 512,\n",
       " 367,\n",
       " 607,\n",
       " 610,\n",
       " 657,\n",
       " 630,\n",
       " 566,\n",
       " 539,\n",
       " 549,\n",
       " 536,\n",
       " 596,\n",
       " 539,\n",
       " 548,\n",
       " 612,\n",
       " 542,\n",
       " 479,\n",
       " 606,\n",
       " 548,\n",
       " 112,\n",
       " 114,\n",
       " 225,\n",
       " 283,\n",
       " 180,\n",
       " 10,\n",
       " 8,\n",
       " 19,\n",
       " 270,\n",
       " 125,\n",
       " 317,\n",
       " 281,\n",
       " 79,\n",
       " 79,\n",
       " 35,\n",
       " 261,\n",
       " 118,\n",
       " 251,\n",
       " 155,\n",
       " 161,\n",
       " 89,\n",
       " 164,\n",
       " 167,\n",
       " 244,\n",
       " 297]"
      ]
     },
     "execution_count": 7,
     "metadata": {},
     "output_type": "execute_result"
    },
    {
     "data": {
      "image/png": "[encoded data removed]",
      "text/plain": [
       "<Figure size 432x288 with 1 Axes>"
      ]
     },
     "metadata": {
      "needs_background": "light"
     },
     "output_type": "display_data"
    }
   ],
   "source": [
    "import matplotlib.pyplot as plt\n",
    "\n",
    "plt.imshow(masks[0])\n",
    "ID"
   ]
  },
  {
   "cell_type": "code",
   "execution_count": 8,
   "id": "3ce38ef1",
   "metadata": {},
   "outputs": [
    {
     "ename": "NameError",
     "evalue": "name 'img' is not defined",
     "output_type": "error",
     "traceback": [
      "\u001b[0;31m---------------------------------------------------------------------------\u001b[0m",
      "\u001b[0;31mNameError\u001b[0m                                 Traceback (most recent call last)",
      "\u001b[0;32m<ipython-input-8-bfca2cf5e41f>\u001b[0m in \u001b[0;36m<module>\u001b[0;34m\u001b[0m\n\u001b[1;32m      3\u001b[0m \u001b[0;32mfor\u001b[0m \u001b[0mi\u001b[0m \u001b[0;32min\u001b[0m \u001b[0mrange\u001b[0m\u001b[0;34m(\u001b[0m\u001b[0;36m2\u001b[0m\u001b[0;34m)\u001b[0m\u001b[0;34m:\u001b[0m\u001b[0;34m\u001b[0m\u001b[0;34m\u001b[0m\u001b[0m\n\u001b[1;32m      4\u001b[0m     \u001b[0mplt\u001b[0m\u001b[0;34m.\u001b[0m\u001b[0msubplot\u001b[0m\u001b[0;34m(\u001b[0m\u001b[0;36m2\u001b[0m\u001b[0;34m,\u001b[0m\u001b[0;36m2\u001b[0m\u001b[0;34m,\u001b[0m\u001b[0mi\u001b[0m\u001b[0;34m+\u001b[0m\u001b[0;36m1\u001b[0m\u001b[0;34m)\u001b[0m\u001b[0;34m\u001b[0m\u001b[0;34m\u001b[0m\u001b[0m\n\u001b[0;32m----> 5\u001b[0;31m     \u001b[0mplt\u001b[0m\u001b[0;34m.\u001b[0m\u001b[0mimshow\u001b[0m\u001b[0;34m(\u001b[0m\u001b[0mimg\u001b[0m\u001b[0;34m[\u001b[0m\u001b[0mi\u001b[0m\u001b[0;34m]\u001b[0m\u001b[0;34m)\u001b[0m\u001b[0;34m\u001b[0m\u001b[0;34m\u001b[0m\u001b[0m\n\u001b[0m\u001b[1;32m      6\u001b[0m \u001b[0;34m\u001b[0m\u001b[0m\n",
      "\u001b[0;31mNameError\u001b[0m: name 'img' is not defined"
     ]
    },
    {
     "data": {
      "image/png": "[encoded data removed]",
      "text/plain": [
       "<Figure size 720x720 with 1 Axes>"
      ]
     },
     "metadata": {
      "needs_background": "light"
     },
     "output_type": "display_data"
    }
   ],
   "source": [
    "import matplotlib.pyplot as plt\n",
    "plt.subplots(figsize = (10,10))\n",
    "for i in range(2):\n",
    "    plt.subplot(2,2,i+1)\n",
    "    plt.imshow(img[i])\n",
    "\n"
   ]
  },
  {
   "cell_type": "code",
   "execution_count": null,
   "id": "696c81fe",
   "metadata": {},
   "outputs": [],
   "source": [
    "def normalize(input_image, input_mask):\n",
    "    input_image = tf.cast(input_image, tf.float32) / 255.0\n",
    "    return input_image, input_mask"
   ]
  },
  {
   "cell_type": "code",
   "execution_count": null,
   "id": "663b7b91",
   "metadata": {},
   "outputs": [],
   "source": [
    "import tensorflow as tf\n",
    "image_norm_list = []\n",
    "mask_norm_list = []\n",
    "for image, mask in zip(images, masks):\n",
    "    image_norm, mask_norm = normalize(image, mask)\n",
    "    image_norm_list.append(image_norm)\n",
    "    mask_norm_list.append(mask_norm)"
   ]
  },
  {
   "cell_type": "code",
   "execution_count": null,
   "id": "955227c8",
   "metadata": {},
   "outputs": [],
   "source": [
    "mask_norm_list[1].shape"
   ]
  },
  {
   "cell_type": "code",
   "execution_count": null,
   "id": "76ac2b7b",
   "metadata": {},
   "outputs": [],
   "source": [
    "images[1].shape"
   ]
  },
  {
   "cell_type": "code",
   "execution_count": null,
   "id": "7a1d841a",
   "metadata": {},
   "outputs": [],
   "source": [
    "plt.imshow(tf.image.resize(masks[1], (128, 128)))\n"
   ]
  },
  {
   "cell_type": "code",
   "execution_count": null,
   "id": "36a6c1ef",
   "metadata": {},
   "outputs": [],
   "source": [
    "plt.imshow(tf.image.resize(image_norm_list[1], (128,128)))"
   ]
  },
  {
   "cell_type": "code",
   "execution_count": null,
   "id": "1d4c9a6f",
   "metadata": {},
   "outputs": [],
   "source": [
    "t_im = images[1]\n",
    "t_ma = masks[1]\n",
    "t_im.shape"
   ]
  },
  {
   "cell_type": "code",
   "execution_count": null,
   "id": "5feb1780",
   "metadata": {},
   "outputs": [],
   "source": [
    "t_ma.shape"
   ]
  },
  {
   "cell_type": "code",
   "execution_count": null,
   "id": "ca2e7ead",
   "metadata": {},
   "outputs": [],
   "source": [
    "import numpy as np\n",
    "\n",
    "np.unique(t_ma[:,])"
   ]
  },
  {
   "cell_type": "code",
   "execution_count": null,
   "id": "ac5acd0f",
   "metadata": {},
   "outputs": [],
   "source": [
    "np.sum(t_ma[:,])/(255*(t_ma.shape[0] * t_ma.shape[1]))"
   ]
  },
  {
   "cell_type": "code",
   "execution_count": null,
   "id": "39eefc90",
   "metadata": {},
   "outputs": [],
   "source": [
    "def fraction(i):\n",
    "    return np.sum(masks[i])/(255*(images[i].shape[0] * images[i].shape[1]))\n",
    "\n",
    "fractions = np.array([fraction(i) for i in range(len(masks))])\n",
    "print(fractions.max(), fractions.min(), fractions.mean(), fractions.std())"
   ]
  },
  {
   "cell_type": "code",
   "execution_count": null,
   "id": "8dc2fbe8",
   "metadata": {},
   "outputs": [],
   "source": [
    "import numpy as np\n",
    "plt.imshow(t_im[:,:,0:1]*t_ma)"
   ]
  },
  {
   "cell_type": "code",
   "execution_count": null,
   "id": "c4caf8f1",
   "metadata": {},
   "outputs": [],
   "source": [
    "plt.imshow(image_norm_list[1])"
   ]
  },
  {
   "cell_type": "code",
   "execution_count": null,
   "id": "ecee57eb",
   "metadata": {},
   "outputs": [],
   "source": [
    "plt.imshow(t_ma)"
   ]
  }
 ],
 "metadata": {
  "kernelspec": {
   "display_name": "Python 3",
   "language": "python",
   "name": "python3"
  },
  "language_info": {
   "codemirror_mode": {
    "name": "ipython",
    "version": 3
   },
   "file_extension": ".py",
   "mimetype": "text/x-python",
   "name": "python",
   "nbconvert_exporter": "python",
   "pygments_lexer": "ipython3",
   "version": "3.8.6"
  },
  "toc": {
   "base_numbering": 1,
   "nav_menu": {},
   "number_sections": true,
   "sideBar": true,
   "skip_h1_title": false,
   "title_cell": "Table of Contents",
   "title_sidebar": "Contents",
   "toc_cell": false,
   "toc_position": {},
   "toc_section_display": true,
   "toc_window_display": false
  }
 },
 "nbformat": 4,
 "nbformat_minor": 5
}
