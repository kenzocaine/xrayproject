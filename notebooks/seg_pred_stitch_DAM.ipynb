{
 "cells": [
  {
   "cell_type": "code",
   "execution_count": 1,
   "id": "78f203bd",
   "metadata": {},
   "outputs": [],
   "source": [
    "%load_ext autoreload\n",
    "%autoreload 2"
   ]
  },
  {
   "cell_type": "code",
   "execution_count": 2,
   "id": "b790291a",
   "metadata": {},
   "outputs": [],
   "source": [
    "import tensorflow as tf\n",
    "import numpy as np\n",
    "from sklearn.model_selection import train_test_split\n",
    "import matplotlib.pyplot as plt\n",
    "from tensorflow_examples.models.pix2pix import pix2pix"
   ]
  },
  {
   "cell_type": "code",
   "execution_count": 3,
   "id": "5b3f7ff6",
   "metadata": {},
   "outputs": [],
   "source": [
    "from xrayproject import segmentation_zero\n",
    "from xrayproject.utils import load_train, load_masks\n",
    "from xrayproject.preprocessing import normalize, flip_resize, resize_test"
   ]
  },
  {
   "cell_type": "markdown",
   "id": "6514a68f",
   "metadata": {},
   "source": [
    "## We want to create a bunch of functions that integrate Kim's baseline classification-model with David's segmentation-model. How do we want to do this?"
   ]
  },
  {
   "cell_type": "markdown",
   "id": "b40f85c6",
   "metadata": {},
   "source": [
    "### First, to do anything, we need to import raw images. Our full model will be designed to run on only these raw images..."
   ]
  },
  {
   "cell_type": "code",
   "execution_count": 13,
   "id": "163355a3",
   "metadata": {
    "collapsed": true
   },
   "outputs": [
    {
     "name": "stdout",
     "output_type": "stream",
     "text": [
      "Using path:  ../raw_data/raw_PRC/CXR_mask/\n",
      "Using bucket \n",
      "Loading local file:  ../raw_data/raw_PRC/CXR_mask/CHNCXR_0608_1_mask.png\n",
      "Loading local file:  ../raw_data/raw_PRC/CXR_mask/CHNCXR_0333_1_mask.png\n",
      "Loading local file:  ../raw_data/raw_PRC/CXR_mask/CHNCXR_0469_1_mask.png\n",
      "Loading local file:  ../raw_data/raw_PRC/CXR_mask/CHNCXR_0433_1_mask.png\n",
      "Loading local file:  ../raw_data/raw_PRC/CXR_mask/CHNCXR_0386_1_mask.png\n",
      "Loading local file:  ../raw_data/raw_PRC/CXR_mask/CHNCXR_0662_1_mask.png\n",
      "Loading local file:  ../raw_data/raw_PRC/CXR_mask/CHNCXR_0388_1_mask.png\n",
      "Loading local file:  ../raw_data/raw_PRC/CXR_mask/CHNCXR_0610_1_mask.png\n",
      "Loading local file:  ../raw_data/raw_PRC/CXR_mask/CHNCXR_0451_1_mask.png\n",
      "Loading local file:  ../raw_data/raw_PRC/CXR_mask/CHNCXR_0625_1_mask.png\n",
      "Loading local file:  ../raw_data/raw_PRC/CXR_mask/CHNCXR_0591_1_mask.png\n",
      "Loading local file:  ../raw_data/raw_PRC/CXR_mask/CHNCXR_0423_1_mask.png\n",
      "Loading local file:  ../raw_data/raw_PRC/CXR_mask/CHNCXR_0479_1_mask.png\n",
      "Loading local file:  ../raw_data/raw_PRC/CXR_mask/CHNCXR_0387_1_mask.png\n",
      "Loading local file:  ../raw_data/raw_PRC/CXR_mask/CHNCXR_0394_1_mask.png\n",
      "Loading local file:  ../raw_data/raw_PRC/CXR_mask/CHNCXR_0590_1_mask.png\n",
      "Loading local file:  ../raw_data/raw_PRC/CXR_mask/CHNCXR_0384_1_mask.png\n",
      "Loading local file:  ../raw_data/raw_PRC/CXR_mask/CHNCXR_0580_1_mask.png\n",
      "Loading local file:  ../raw_data/raw_PRC/CXR_mask/CHNCXR_0553_1_mask.png\n",
      "Loading local file:  ../raw_data/raw_PRC/CXR_mask/CHNCXR_0423_1_mask.png\n",
      "Loading local file:  ../raw_data/raw_PRC/CXR_mask/CHNCXR_0532_1_mask.png\n",
      "Loading local file:  ../raw_data/raw_PRC/CXR_mask/CHNCXR_0381_1_mask.png\n",
      "Loading local file:  ../raw_data/raw_PRC/CXR_mask/CHNCXR_0475_1_mask.png\n",
      "Loading local file:  ../raw_data/raw_PRC/CXR_mask/CHNCXR_0381_1_mask.png\n",
      "Loading local file:  ../raw_data/raw_PRC/CXR_mask/CHNCXR_0410_1_mask.png\n",
      "Loading local file:  ../raw_data/raw_PRC/CXR_mask/CHNCXR_0403_1_mask.png\n",
      "Loading local file:  ../raw_data/raw_PRC/CXR_mask/CHNCXR_0394_1_mask.png\n",
      "Loading local file:  ../raw_data/raw_PRC/CXR_mask/CHNCXR_0465_1_mask.png\n",
      "Loading local file:  ../raw_data/raw_PRC/CXR_mask/CHNCXR_0387_1_mask.png\n",
      "Loading local file:  ../raw_data/raw_PRC/CXR_mask/CHNCXR_0638_1_mask.png\n",
      "Loading local file:  ../raw_data/raw_PRC/CXR_mask/CHNCXR_0508_1_mask.png\n",
      "Loading local file:  ../raw_data/raw_PRC/CXR_mask/CHNCXR_0373_1_mask.png\n",
      "Loading local file:  ../raw_data/raw_PRC/CXR_mask/CHNCXR_0594_1_mask.png\n",
      "Loading local file:  ../raw_data/raw_PRC/CXR_mask/CHNCXR_0444_1_mask.png\n",
      "Loading local file:  ../raw_data/raw_PRC/CXR_mask/CHNCXR_0406_1_mask.png\n",
      "Loading local file:  ../raw_data/raw_PRC/CXR_mask/CHNCXR_0396_1_mask.png\n",
      "Loading local file:  ../raw_data/raw_PRC/CXR_mask/CHNCXR_0585_1_mask.png\n",
      "Loading local file:  ../raw_data/raw_PRC/CXR_mask/CHNCXR_0443_1_mask.png\n",
      "Loading local file:  ../raw_data/raw_PRC/CXR_mask/CHNCXR_0630_1_mask.png\n",
      "Loading local file:  ../raw_data/raw_PRC/CXR_mask/CHNCXR_0533_1_mask.png\n",
      "Loading local file:  ../raw_data/raw_PRC/CXR_mask/CHNCXR_0380_1_mask.png\n",
      "Loading local file:  ../raw_data/raw_PRC/CXR_mask/CHNCXR_0443_1_mask.png\n",
      "Loading local file:  ../raw_data/raw_PRC/CXR_mask/CHNCXR_0445_1_mask.png\n",
      "Loading local file:  ../raw_data/raw_PRC/CXR_mask/CHNCXR_0459_1_mask.png\n",
      "Loading local file:  ../raw_data/raw_PRC/CXR_mask/CHNCXR_0506_1_mask.png\n",
      "Loading local file:  ../raw_data/raw_PRC/CXR_mask/CHNCXR_0383_1_mask.png\n",
      "Loading local file:  ../raw_data/raw_PRC/CXR_mask/CHNCXR_0409_1_mask.png\n",
      "Loading local file:  ../raw_data/raw_PRC/CXR_mask/CHNCXR_0575_1_mask.png\n",
      "Loading local file:  ../raw_data/raw_PRC/CXR_mask/CHNCXR_0518_1_mask.png\n",
      "Loading local file:  ../raw_data/raw_PRC/CXR_mask/CHNCXR_0469_1_mask.png\n",
      "Loading local file:  ../raw_data/raw_PRC/CXR_mask/CHNCXR_0099_0_mask.png\n",
      "Loading local file:  ../raw_data/raw_PRC/CXR_mask/CHNCXR_0107_0_mask.png\n",
      "Loading local file:  ../raw_data/raw_PRC/CXR_mask/CHNCXR_0070_0_mask.png\n",
      "Loading local file:  ../raw_data/raw_PRC/CXR_mask/CHNCXR_0021_0_mask.png\n",
      "Loading local file:  ../raw_data/raw_PRC/CXR_mask/CHNCXR_0027_0_mask.png\n",
      "Loading local file:  ../raw_data/raw_PRC/CXR_mask/CHNCXR_0225_0_mask.png\n",
      "Loading local file:  ../raw_data/raw_PRC/CXR_mask/CHNCXR_0070_0_mask.png\n",
      "Loading local file:  ../raw_data/raw_PRC/CXR_mask/CHNCXR_0131_0_mask.png\n",
      "Loading local file:  ../raw_data/raw_PRC/CXR_mask/CHNCXR_0092_0_mask.png\n",
      "Loading local file:  ../raw_data/raw_PRC/CXR_mask/CHNCXR_0035_0_mask.png\n",
      "Loading local file:  ../raw_data/raw_PRC/CXR_mask/CHNCXR_0093_0_mask.png\n",
      "Loading local file:  ../raw_data/raw_PRC/CXR_mask/CHNCXR_0012_0_mask.png\n",
      "Loading local file:  ../raw_data/raw_PRC/CXR_mask/CHNCXR_0058_0_mask.png\n",
      "Loading local file:  ../raw_data/raw_PRC/CXR_mask/CHNCXR_0254_0_mask.png\n",
      "Loading local file:  ../raw_data/raw_PRC/CXR_mask/CHNCXR_0078_0_mask.png\n",
      "Loading local file:  ../raw_data/raw_PRC/CXR_mask/CHNCXR_0237_0_mask.png\n",
      "Loading local file:  ../raw_data/raw_PRC/CXR_mask/CHNCXR_0230_0_mask.png\n",
      "Loading local file:  ../raw_data/raw_PRC/CXR_mask/CHNCXR_0071_0_mask.png\n",
      "Loading local file:  ../raw_data/raw_PRC/CXR_mask/CHNCXR_0285_0_mask.png\n",
      "Loading local file:  ../raw_data/raw_PRC/CXR_mask/CHNCXR_0035_0_mask.png\n",
      "Loading local file:  ../raw_data/raw_PRC/CXR_mask/CHNCXR_0268_0_mask.png\n",
      "Loading local file:  ../raw_data/raw_PRC/CXR_mask/CHNCXR_0090_0_mask.png\n",
      "Loading local file:  ../raw_data/raw_PRC/CXR_mask/CHNCXR_0001_0_mask.png\n",
      "Loading local file:  ../raw_data/raw_PRC/CXR_mask/CHNCXR_0133_0_mask.png\n",
      "Loading local file:  ../raw_data/raw_PRC/CXR_mask/CHNCXR_0139_0_mask.png\n",
      "Loading local file:  ../raw_data/raw_PRC/CXR_mask/CHNCXR_0224_0_mask.png\n",
      "Loading local file:  ../raw_data/raw_PRC/CXR_mask/CHNCXR_0048_0_mask.png\n",
      "Loading local file:  ../raw_data/raw_PRC/CXR_mask/CHNCXR_0112_0_mask.png\n",
      "Loading local file:  ../raw_data/raw_PRC/CXR_mask/CHNCXR_0076_0_mask.png\n",
      "Loading local file:  ../raw_data/raw_PRC/CXR_mask/CHNCXR_0022_0_mask.png\n",
      "Loading local file:  ../raw_data/raw_PRC/CXR_mask/CHNCXR_0146_0_mask.png\n",
      "Loading local file:  ../raw_data/raw_PRC/CXR_mask/CHNCXR_0050_0_mask.png\n",
      "Loading local file:  ../raw_data/raw_PRC/CXR_mask/CHNCXR_0156_0_mask.png\n",
      "Loading local file:  ../raw_data/raw_PRC/CXR_mask/CHNCXR_0124_0_mask.png\n",
      "Loading local file:  ../raw_data/raw_PRC/CXR_mask/CHNCXR_0115_0_mask.png\n",
      "Loading local file:  ../raw_data/raw_PRC/CXR_mask/CHNCXR_0317_0_mask.png\n",
      "Loading local file:  ../raw_data/raw_PRC/CXR_mask/CHNCXR_0303_0_mask.png\n",
      "Loading local file:  ../raw_data/raw_PRC/CXR_mask/CHNCXR_0139_0_mask.png\n",
      "Loading local file:  ../raw_data/raw_PRC/CXR_mask/CHNCXR_0150_0_mask.png\n",
      "Loading local file:  ../raw_data/raw_PRC/CXR_mask/CHNCXR_0229_0_mask.png\n",
      "Loading local file:  ../raw_data/raw_PRC/CXR_mask/CHNCXR_0302_0_mask.png\n",
      "Loading local file:  ../raw_data/raw_PRC/CXR_mask/CHNCXR_0104_0_mask.png\n",
      "Loading local file:  ../raw_data/raw_PRC/CXR_mask/CHNCXR_0282_0_mask.png\n",
      "Loading local file:  ../raw_data/raw_PRC/CXR_mask/CHNCXR_0034_0_mask.png\n",
      "Loading local file:  ../raw_data/raw_PRC/CXR_mask/CHNCXR_0233_0_mask.png\n",
      "Loading local file:  ../raw_data/raw_PRC/CXR_mask/CHNCXR_0234_0_mask.png\n",
      "Loading local file:  ../raw_data/raw_PRC/CXR_mask/CHNCXR_0008_0_mask.png\n",
      "Loading local file:  ../raw_data/raw_PRC/CXR_mask/CHNCXR_0011_0_mask.png\n",
      "Loading local file:  ../raw_data/raw_PRC/CXR_mask/CHNCXR_0164_0_mask.png\n",
      "Loading local file:  ../raw_data/raw_PRC/CXR_mask/CHNCXR_0029_0_mask.png\n"
     ]
    }
   ],
   "source": [
    "path_image = '../raw_data/raw_PRC/CXR_png/'\n",
    "path_mask = '../raw_data/raw_PRC/CXR_mask/'\n",
    "\n",
    "masks, targets, ID = load_masks(100, get_all = False, get_random = True, balanced = True, path = path_mask)"
   ]
  },
  {
   "cell_type": "code",
   "execution_count": 14,
   "id": "b81b4883",
   "metadata": {
    "collapsed": true
   },
   "outputs": [
    {
     "name": "stdout",
     "output_type": "stream",
     "text": [
      "Loading local file:  ../raw_data/raw_PRC/CXR_png/CHNCXR_0022_0.png\n",
      "Loading local file:  ../raw_data/raw_PRC/CXR_png/CHNCXR_0433_1.png\n",
      "Loading local file:  ../raw_data/raw_PRC/CXR_png/CHNCXR_0610_1.png\n",
      "Loading local file:  ../raw_data/raw_PRC/CXR_png/CHNCXR_0594_1.png\n",
      "Loading local file:  ../raw_data/raw_PRC/CXR_png/CHNCXR_0124_0.png\n",
      "Loading local file:  ../raw_data/raw_PRC/CXR_png/CHNCXR_0225_0.png\n",
      "Loading local file:  ../raw_data/raw_PRC/CXR_png/CHNCXR_0508_1.png\n",
      "Loading local file:  ../raw_data/raw_PRC/CXR_png/CHNCXR_0058_0.png\n",
      "Loading local file:  ../raw_data/raw_PRC/CXR_png/CHNCXR_0380_1.png\n",
      "Loading local file:  ../raw_data/raw_PRC/CXR_png/CHNCXR_0104_0.png\n",
      "Loading local file:  ../raw_data/raw_PRC/CXR_png/CHNCXR_0384_1.png\n",
      "Loading local file:  ../raw_data/raw_PRC/CXR_png/CHNCXR_0630_1.png\n",
      "Loading local file:  ../raw_data/raw_PRC/CXR_png/CHNCXR_0469_1.png\n",
      "Loading local file:  ../raw_data/raw_PRC/CXR_png/CHNCXR_0469_1.png\n",
      "Loading local file:  ../raw_data/raw_PRC/CXR_png/CHNCXR_0139_0.png\n",
      "Loading local file:  ../raw_data/raw_PRC/CXR_png/CHNCXR_0139_0.png\n",
      "Loading local file:  ../raw_data/raw_PRC/CXR_png/CHNCXR_0078_0.png\n",
      "Loading local file:  ../raw_data/raw_PRC/CXR_png/CHNCXR_0590_1.png\n",
      "Loading local file:  ../raw_data/raw_PRC/CXR_png/CHNCXR_0303_0.png\n",
      "Loading local file:  ../raw_data/raw_PRC/CXR_png/CHNCXR_0533_1.png\n",
      "Loading local file:  ../raw_data/raw_PRC/CXR_png/CHNCXR_0282_0.png\n",
      "Loading local file:  ../raw_data/raw_PRC/CXR_png/CHNCXR_0386_1.png\n",
      "Loading local file:  ../raw_data/raw_PRC/CXR_png/CHNCXR_0475_1.png\n",
      "Loading local file:  ../raw_data/raw_PRC/CXR_png/CHNCXR_0224_0.png\n",
      "Loading local file:  ../raw_data/raw_PRC/CXR_png/CHNCXR_0099_0.png\n",
      "Loading local file:  ../raw_data/raw_PRC/CXR_png/CHNCXR_0021_0.png\n",
      "Loading local file:  ../raw_data/raw_PRC/CXR_png/CHNCXR_0285_0.png\n",
      "Loading local file:  ../raw_data/raw_PRC/CXR_png/CHNCXR_0381_1.png\n",
      "Loading local file:  ../raw_data/raw_PRC/CXR_png/CHNCXR_0381_1.png\n",
      "Loading local file:  ../raw_data/raw_PRC/CXR_png/CHNCXR_0451_1.png\n",
      "Loading local file:  ../raw_data/raw_PRC/CXR_png/CHNCXR_0608_1.png\n",
      "Loading local file:  ../raw_data/raw_PRC/CXR_png/CHNCXR_0146_0.png\n",
      "Loading local file:  ../raw_data/raw_PRC/CXR_png/CHNCXR_0383_1.png\n",
      "Loading local file:  ../raw_data/raw_PRC/CXR_png/CHNCXR_0553_1.png\n",
      "Loading local file:  ../raw_data/raw_PRC/CXR_png/CHNCXR_0302_0.png\n",
      "Loading local file:  ../raw_data/raw_PRC/CXR_png/CHNCXR_0387_1.png\n",
      "Loading local file:  ../raw_data/raw_PRC/CXR_png/CHNCXR_0387_1.png\n",
      "Loading local file:  ../raw_data/raw_PRC/CXR_png/CHNCXR_0107_0.png\n",
      "Loading local file:  ../raw_data/raw_PRC/CXR_png/CHNCXR_0027_0.png\n",
      "Loading local file:  ../raw_data/raw_PRC/CXR_png/CHNCXR_0532_1.png\n",
      "Loading local file:  ../raw_data/raw_PRC/CXR_png/CHNCXR_0575_1.png\n",
      "Loading local file:  ../raw_data/raw_PRC/CXR_png/CHNCXR_0410_1.png\n",
      "Loading local file:  ../raw_data/raw_PRC/CXR_png/CHNCXR_0591_1.png\n",
      "Loading local file:  ../raw_data/raw_PRC/CXR_png/CHNCXR_0164_0.png\n",
      "Loading local file:  ../raw_data/raw_PRC/CXR_png/CHNCXR_0409_1.png\n",
      "Loading local file:  ../raw_data/raw_PRC/CXR_png/CHNCXR_0001_0.png\n",
      "Loading local file:  ../raw_data/raw_PRC/CXR_png/CHNCXR_0254_0.png\n",
      "Loading local file:  ../raw_data/raw_PRC/CXR_png/CHNCXR_0518_1.png\n",
      "Loading local file:  ../raw_data/raw_PRC/CXR_png/CHNCXR_0048_0.png\n",
      "Loading local file:  ../raw_data/raw_PRC/CXR_png/CHNCXR_0459_1.png\n",
      "Loading local file:  ../raw_data/raw_PRC/CXR_png/CHNCXR_0029_0.png\n",
      "Loading local file:  ../raw_data/raw_PRC/CXR_png/CHNCXR_0423_1.png\n",
      "Loading local file:  ../raw_data/raw_PRC/CXR_png/CHNCXR_0423_1.png\n",
      "Loading local file:  ../raw_data/raw_PRC/CXR_png/CHNCXR_0237_0.png\n",
      "Loading local file:  ../raw_data/raw_PRC/CXR_png/CHNCXR_0093_0.png\n",
      "Loading local file:  ../raw_data/raw_PRC/CXR_png/CHNCXR_0317_0.png\n",
      "Loading local file:  ../raw_data/raw_PRC/CXR_png/CHNCXR_0333_1.png\n",
      "Loading local file:  ../raw_data/raw_PRC/CXR_png/CHNCXR_0112_0.png\n",
      "Loading local file:  ../raw_data/raw_PRC/CXR_png/CHNCXR_0403_1.png\n",
      "Loading local file:  ../raw_data/raw_PRC/CXR_png/CHNCXR_0396_1.png\n",
      "Loading local file:  ../raw_data/raw_PRC/CXR_png/CHNCXR_0233_0.png\n",
      "Loading local file:  ../raw_data/raw_PRC/CXR_png/CHNCXR_0012_0.png\n",
      "Loading local file:  ../raw_data/raw_PRC/CXR_png/CHNCXR_0580_1.png\n",
      "Loading local file:  ../raw_data/raw_PRC/CXR_png/CHNCXR_0394_1.png\n",
      "Loading local file:  ../raw_data/raw_PRC/CXR_png/CHNCXR_0394_1.png\n",
      "Loading local file:  ../raw_data/raw_PRC/CXR_png/CHNCXR_0444_1.png\n",
      "Loading local file:  ../raw_data/raw_PRC/CXR_png/CHNCXR_0479_1.png\n",
      "Loading local file:  ../raw_data/raw_PRC/CXR_png/CHNCXR_0034_0.png\n",
      "Loading local file:  ../raw_data/raw_PRC/CXR_png/CHNCXR_0071_0.png\n",
      "Loading local file:  ../raw_data/raw_PRC/CXR_png/CHNCXR_0092_0.png\n",
      "Loading local file:  ../raw_data/raw_PRC/CXR_png/CHNCXR_0156_0.png\n",
      "Loading local file:  ../raw_data/raw_PRC/CXR_png/CHNCXR_0443_1.png\n",
      "Loading local file:  ../raw_data/raw_PRC/CXR_png/CHNCXR_0443_1.png\n",
      "Loading local file:  ../raw_data/raw_PRC/CXR_png/CHNCXR_0406_1.png\n",
      "Loading local file:  ../raw_data/raw_PRC/CXR_png/CHNCXR_0662_1.png\n",
      "Loading local file:  ../raw_data/raw_PRC/CXR_png/CHNCXR_0076_0.png\n",
      "Loading local file:  ../raw_data/raw_PRC/CXR_png/CHNCXR_0268_0.png\n",
      "Loading local file:  ../raw_data/raw_PRC/CXR_png/CHNCXR_0625_1.png\n",
      "Loading local file:  ../raw_data/raw_PRC/CXR_png/CHNCXR_0585_1.png\n",
      "Loading local file:  ../raw_data/raw_PRC/CXR_png/CHNCXR_0090_0.png\n",
      "Loading local file:  ../raw_data/raw_PRC/CXR_png/CHNCXR_0234_0.png\n",
      "Loading local file:  ../raw_data/raw_PRC/CXR_png/CHNCXR_0465_1.png\n",
      "Loading local file:  ../raw_data/raw_PRC/CXR_png/CHNCXR_0388_1.png\n",
      "Loading local file:  ../raw_data/raw_PRC/CXR_png/CHNCXR_0050_0.png\n",
      "Loading local file:  ../raw_data/raw_PRC/CXR_png/CHNCXR_0131_0.png\n",
      "Loading local file:  ../raw_data/raw_PRC/CXR_png/CHNCXR_0230_0.png\n",
      "Loading local file:  ../raw_data/raw_PRC/CXR_png/CHNCXR_0638_1.png\n",
      "Loading local file:  ../raw_data/raw_PRC/CXR_png/CHNCXR_0011_0.png\n",
      "Loading local file:  ../raw_data/raw_PRC/CXR_png/CHNCXR_0070_0.png\n",
      "Loading local file:  ../raw_data/raw_PRC/CXR_png/CHNCXR_0070_0.png\n",
      "Loading local file:  ../raw_data/raw_PRC/CXR_png/CHNCXR_0035_0.png\n",
      "Loading local file:  ../raw_data/raw_PRC/CXR_png/CHNCXR_0035_0.png\n",
      "Loading local file:  ../raw_data/raw_PRC/CXR_png/CHNCXR_0229_0.png\n",
      "Loading local file:  ../raw_data/raw_PRC/CXR_png/CHNCXR_0445_1.png\n",
      "Loading local file:  ../raw_data/raw_PRC/CXR_png/CHNCXR_0115_0.png\n",
      "Loading local file:  ../raw_data/raw_PRC/CXR_png/CHNCXR_0150_0.png\n",
      "Loading local file:  ../raw_data/raw_PRC/CXR_png/CHNCXR_0008_0.png\n",
      "Loading local file:  ../raw_data/raw_PRC/CXR_png/CHNCXR_0506_1.png\n",
      "Loading local file:  ../raw_data/raw_PRC/CXR_png/CHNCXR_0373_1.png\n",
      "Loading local file:  ../raw_data/raw_PRC/CXR_png/CHNCXR_0133_0.png\n"
     ]
    }
   ],
   "source": [
    "images, IDs = load_train(ID, path = path_image)"
   ]
  },
  {
   "cell_type": "markdown",
   "id": "f0a213c0",
   "metadata": {},
   "source": [
    "### However, we need to have well-trained segmentation-model. So, to begin with, we're going to load a huge number of image-mask pairs, and train the segmentation model to ensure that we have anything useful."
   ]
  },
  {
   "cell_type": "code",
   "execution_count": 15,
   "id": "15a3c410",
   "metadata": {},
   "outputs": [],
   "source": [
    "resized = [flip_resize(images[i], masks[i], input_shape=(224, 224)) for i in range(len(images))]"
   ]
  },
  {
   "cell_type": "code",
   "execution_count": 16,
   "id": "dd3bdad1",
   "metadata": {},
   "outputs": [],
   "source": [
    "seg_model = segmentation_zero.Segmentation_UNET()"
   ]
  },
  {
   "cell_type": "code",
   "execution_count": 17,
   "id": "27ccad04",
   "metadata": {},
   "outputs": [
    {
     "data": {
      "text/plain": [
       "<tensorflow.python.keras.engine.functional.Functional at 0x151598c70>"
      ]
     },
     "execution_count": 17,
     "metadata": {},
     "output_type": "execute_result"
    }
   ],
   "source": [
    "seg_model.base_model()"
   ]
  },
  {
   "cell_type": "code",
   "execution_count": 18,
   "id": "13e288d8",
   "metadata": {},
   "outputs": [
    {
     "data": {
      "text/plain": [
       "<tensorflow.python.keras.engine.functional.Functional at 0x151706b50>"
      ]
     },
     "execution_count": 18,
     "metadata": {},
     "output_type": "execute_result"
    }
   ],
   "source": [
    "seg_model.unet_model()"
   ]
  },
  {
   "cell_type": "code",
   "execution_count": 19,
   "id": "54998fac",
   "metadata": {},
   "outputs": [
    {
     "name": "stdout",
     "output_type": "stream",
     "text": [
      "Initializing model...\n"
     ]
    },
    {
     "data": {
      "text/plain": [
       "<tensorflow.python.keras.engine.functional.Functional at 0x151a32520>"
      ]
     },
     "execution_count": 19,
     "metadata": {},
     "output_type": "execute_result"
    }
   ],
   "source": [
    "seg_model.initialize_model()"
   ]
  },
  {
   "cell_type": "code",
   "execution_count": 40,
   "id": "9ce179b3",
   "metadata": {
    "scrolled": false
   },
   "outputs": [
    {
     "name": "stdout",
     "output_type": "stream",
     "text": [
      "Preprocessing...\n",
      "Initializing model...\n",
      "Starting train..\n",
      "Epoch 1/50\n",
      "5/5 [==============================] - 18s 3s/step - loss: 0.8404 - accuracy: 0.6228 - val_loss: 0.6835 - val_accuracy: 0.6354\n",
      "Epoch 2/50\n",
      "5/5 [==============================] - 12s 2s/step - loss: 0.5623 - accuracy: 0.7015 - val_loss: 0.4892 - val_accuracy: 0.7661\n",
      "Epoch 3/50\n",
      "5/5 [==============================] - 15s 3s/step - loss: 0.4278 - accuracy: 0.8045 - val_loss: 0.3568 - val_accuracy: 0.8764\n",
      "Epoch 4/50\n",
      "5/5 [==============================] - 13s 3s/step - loss: 0.3459 - accuracy: 0.8295 - val_loss: 0.2526 - val_accuracy: 0.9222\n",
      "Epoch 5/50\n",
      "5/5 [==============================] - 14s 3s/step - loss: 0.2927 - accuracy: 0.8438 - val_loss: 0.1945 - val_accuracy: 0.9519\n",
      "Epoch 6/50\n",
      "5/5 [==============================] - 12s 3s/step - loss: 0.2525 - accuracy: 0.8730 - val_loss: 0.1655 - val_accuracy: 0.9587\n",
      "Epoch 7/50\n",
      "5/5 [==============================] - 13s 3s/step - loss: 0.2238 - accuracy: 0.9039 - val_loss: 0.1488 - val_accuracy: 0.9599\n",
      "Epoch 8/50\n",
      "5/5 [==============================] - 12s 3s/step - loss: 0.1962 - accuracy: 0.9269 - val_loss: 0.1428 - val_accuracy: 0.9595\n",
      "Epoch 9/50\n",
      "5/5 [==============================] - 14s 3s/step - loss: 0.1750 - accuracy: 0.9438 - val_loss: 0.1420 - val_accuracy: 0.9587\n",
      "Epoch 10/50\n",
      "5/5 [==============================] - 13s 3s/step - loss: 0.1572 - accuracy: 0.9534 - val_loss: 0.1327 - val_accuracy: 0.9588\n",
      "Epoch 11/50\n",
      "5/5 [==============================] - 13s 3s/step - loss: 0.1474 - accuracy: 0.9573 - val_loss: 0.1168 - val_accuracy: 0.9644\n",
      "Epoch 12/50\n",
      "5/5 [==============================] - 13s 3s/step - loss: 0.1280 - accuracy: 0.9655 - val_loss: 0.1184 - val_accuracy: 0.9661\n",
      "Epoch 13/50\n",
      "5/5 [==============================] - 14s 3s/step - loss: 0.1215 - accuracy: 0.9684 - val_loss: 0.1077 - val_accuracy: 0.9671\n",
      "Epoch 14/50\n",
      "5/5 [==============================] - 12s 3s/step - loss: 0.1085 - accuracy: 0.9713 - val_loss: 0.1062 - val_accuracy: 0.9692\n",
      "Epoch 15/50\n",
      "5/5 [==============================] - 13s 3s/step - loss: 0.1020 - accuracy: 0.9742 - val_loss: 0.1126 - val_accuracy: 0.9626\n",
      "Epoch 16/50\n",
      "5/5 [==============================] - 12s 3s/step - loss: 0.0943 - accuracy: 0.9750 - val_loss: 0.1017 - val_accuracy: 0.9700\n",
      "Epoch 17/50\n",
      "5/5 [==============================] - 13s 3s/step - loss: 0.0882 - accuracy: 0.9775 - val_loss: 0.1050 - val_accuracy: 0.9674\n",
      "Epoch 18/50\n",
      "5/5 [==============================] - 13s 3s/step - loss: 0.0809 - accuracy: 0.9800 - val_loss: 0.1122 - val_accuracy: 0.9600\n",
      "Epoch 19/50\n",
      "5/5 [==============================] - 17s 4s/step - loss: 0.0774 - accuracy: 0.9794 - val_loss: 0.1111 - val_accuracy: 0.9615\n",
      "Epoch 20/50\n",
      "5/5 [==============================] - 29s 6s/step - loss: 0.0770 - accuracy: 0.9791 - val_loss: 0.1221 - val_accuracy: 0.9538\n",
      "Epoch 21/50\n",
      "5/5 [==============================] - 22s 4s/step - loss: 0.0710 - accuracy: 0.9808 - val_loss: 0.1061 - val_accuracy: 0.9634\n",
      "Epoch 22/50\n",
      "5/5 [==============================] - 19s 4s/step - loss: 0.0701 - accuracy: 0.9806 - val_loss: 0.1120 - val_accuracy: 0.9593\n",
      "Epoch 23/50\n",
      "5/5 [==============================] - 19s 4s/step - loss: 0.0631 - accuracy: 0.9822 - val_loss: 0.1127 - val_accuracy: 0.9591\n",
      "Epoch 24/50\n",
      "5/5 [==============================] - 14s 3s/step - loss: 0.0594 - accuracy: 0.9837 - val_loss: 0.1072 - val_accuracy: 0.9625\n",
      "Epoch 25/50\n",
      "5/5 [==============================] - 14s 3s/step - loss: 0.0588 - accuracy: 0.9830 - val_loss: 0.1254 - val_accuracy: 0.9518\n",
      "Epoch 26/50\n",
      "5/5 [==============================] - 15s 3s/step - loss: 0.0541 - accuracy: 0.9843 - val_loss: 0.1110 - val_accuracy: 0.9593\n",
      "Epoch 27/50\n",
      "5/5 [==============================] - 13s 3s/step - loss: 0.0520 - accuracy: 0.9855 - val_loss: 0.1195 - val_accuracy: 0.9545\n",
      "Epoch 28/50\n",
      "5/5 [==============================] - 14s 3s/step - loss: 0.0505 - accuracy: 0.9850 - val_loss: 0.1150 - val_accuracy: 0.9573\n",
      "Epoch 29/50\n",
      "5/5 [==============================] - 14s 3s/step - loss: 0.0492 - accuracy: 0.9858 - val_loss: 0.1137 - val_accuracy: 0.9579\n",
      "Epoch 30/50\n",
      "5/5 [==============================] - 13s 3s/step - loss: 0.0466 - accuracy: 0.9855 - val_loss: 0.1175 - val_accuracy: 0.9569\n",
      "Epoch 31/50\n",
      "5/5 [==============================] - 18s 4s/step - loss: 0.0476 - accuracy: 0.9865 - val_loss: 0.1175 - val_accuracy: 0.9555\n",
      "Epoch 32/50\n",
      "5/5 [==============================] - 16s 3s/step - loss: 0.0432 - accuracy: 0.9867 - val_loss: 0.1089 - val_accuracy: 0.9609\n",
      "Epoch 33/50\n",
      "5/5 [==============================] - 14s 3s/step - loss: 0.0404 - accuracy: 0.9886 - val_loss: 0.1187 - val_accuracy: 0.9548\n",
      "Epoch 34/50\n",
      "5/5 [==============================] - 13s 3s/step - loss: 0.0404 - accuracy: 0.9869 - val_loss: 0.1163 - val_accuracy: 0.9571\n",
      "Epoch 35/50\n",
      "5/5 [==============================] - 15s 3s/step - loss: 0.0384 - accuracy: 0.9888 - val_loss: 0.1195 - val_accuracy: 0.9542\n",
      "Epoch 36/50\n",
      "5/5 [==============================] - 14s 3s/step - loss: 0.0374 - accuracy: 0.9880 - val_loss: 0.1096 - val_accuracy: 0.9596\n",
      "Epoch 37/50\n",
      "5/5 [==============================] - 15s 3s/step - loss: 0.0374 - accuracy: 0.9879 - val_loss: 0.1003 - val_accuracy: 0.9645\n",
      "Epoch 38/50\n",
      "5/5 [==============================] - 13s 3s/step - loss: 0.0375 - accuracy: 0.9884 - val_loss: 0.1002 - val_accuracy: 0.9642\n",
      "Epoch 39/50\n",
      "5/5 [==============================] - 13s 3s/step - loss: 0.0353 - accuracy: 0.9881 - val_loss: 0.0982 - val_accuracy: 0.9655\n",
      "Epoch 40/50\n",
      "5/5 [==============================] - 15s 3s/step - loss: 0.0345 - accuracy: 0.9897 - val_loss: 0.1072 - val_accuracy: 0.9604\n",
      "Epoch 41/50\n",
      "5/5 [==============================] - 14s 3s/step - loss: 0.0317 - accuracy: 0.9894 - val_loss: 0.1080 - val_accuracy: 0.9608\n",
      "Epoch 42/50\n",
      "5/5 [==============================] - 13s 3s/step - loss: 0.0309 - accuracy: 0.9907 - val_loss: 0.1115 - val_accuracy: 0.9588\n",
      "Epoch 43/50\n",
      "5/5 [==============================] - 13s 3s/step - loss: 0.0307 - accuracy: 0.9898 - val_loss: 0.1080 - val_accuracy: 0.9601\n",
      "Epoch 44/50\n",
      "5/5 [==============================] - 13s 3s/step - loss: 0.0301 - accuracy: 0.9894 - val_loss: 0.1005 - val_accuracy: 0.9644\n",
      "Epoch 45/50\n",
      "5/5 [==============================] - 13s 3s/step - loss: 0.0274 - accuracy: 0.9913 - val_loss: 0.1070 - val_accuracy: 0.9612\n",
      "Epoch 46/50\n",
      "5/5 [==============================] - 13s 3s/step - loss: 0.0273 - accuracy: 0.9917 - val_loss: 0.1079 - val_accuracy: 0.9610\n",
      "Epoch 47/50\n",
      "5/5 [==============================] - 13s 3s/step - loss: 0.0258 - accuracy: 0.9914 - val_loss: 0.0928 - val_accuracy: 0.9676\n",
      "Epoch 48/50\n",
      "5/5 [==============================] - 12s 3s/step - loss: 0.0257 - accuracy: 0.9917 - val_loss: 0.0959 - val_accuracy: 0.9659\n",
      "Epoch 49/50\n",
      "5/5 [==============================] - 12s 3s/step - loss: 0.0242 - accuracy: 0.9920 - val_loss: 0.0905 - val_accuracy: 0.9685\n",
      "Epoch 50/50\n",
      "5/5 [==============================] - 12s 3s/step - loss: 0.0236 - accuracy: 0.9928 - val_loss: 0.0992 - val_accuracy: 0.9646\n"
     ]
    },
    {
     "data": {
      "text/plain": [
       "<tensorflow.python.keras.engine.functional.Functional at 0x153c70100>"
      ]
     },
     "execution_count": 40,
     "metadata": {},
     "output_type": "execute_result"
    }
   ],
   "source": [
    "seg_model.train(images, masks, targets, epochs=50)"
   ]
  },
  {
   "cell_type": "markdown",
   "id": "c1fe7c98",
   "metadata": {},
   "source": [
    "### Now that the segmentation-model is trained, we then need to design functions that map the outputs of the segmentation-model into a format that the classification-model can properly analyze. We do this here."
   ]
  },
  {
   "cell_type": "markdown",
   "id": "302bf94d",
   "metadata": {},
   "source": [
    "#### To start, we define a function that maps the output-predictions of the UNET-model back into images:"
   ]
  },
  {
   "cell_type": "code",
   "execution_count": 41,
   "id": "d442dd89",
   "metadata": {},
   "outputs": [],
   "source": [
    "def unet_to_mask_img(raw_lung_xray):\n",
    "    img_funct = seg_model.model.predict(raw_lung_xray[tf.newaxis, ...]).squeeze()\n",
    "    img_funct = np.sign(img_funct)\n",
    "    img_funct = (1+np.resize(img_funct, (224, 224, 1)))/2\n",
    "    return img_funct"
   ]
  },
  {
   "cell_type": "code",
   "execution_count": 42,
   "id": "51b4eba6",
   "metadata": {},
   "outputs": [
    {
     "name": "stdout",
     "output_type": "stream",
     "text": [
      "(224, 224, 3) (224, 224, 1) (224, 224, 3) (224, 224, 1)\n"
     ]
    }
   ],
   "source": [
    "print(resized[0][0].shape,\n",
    "      resized[0][1].shape,\n",
    "      resized[0][2].shape,\n",
    "      resized[0][3].shape)"
   ]
  },
  {
   "cell_type": "code",
   "execution_count": 43,
   "id": "c3792ef5",
   "metadata": {},
   "outputs": [
    {
     "data": {
      "image/png": "[encoded data removed]",
      "text/plain": [
       "<Figure size 432x288 with 1 Axes>"
      ]
     },
     "metadata": {
      "needs_background": "light"
     },
     "output_type": "display_data"
    }
   ],
   "source": [
    "plt.imshow(unet_to_mask_img(resized[5][0]))\n",
    "plt.show()"
   ]
  },
  {
   "cell_type": "code",
   "execution_count": 44,
   "id": "ae958804",
   "metadata": {},
   "outputs": [
    {
     "data": {
      "image/png": "[encoded data removed]",
      "text/plain": [
       "<Figure size 432x288 with 1 Axes>"
      ]
     },
     "metadata": {
      "needs_background": "light"
     },
     "output_type": "display_data"
    }
   ],
   "source": [
    "plt.imshow(resized[5][1])\n",
    "plt.show()"
   ]
  },
  {
   "cell_type": "markdown",
   "id": "556330b6",
   "metadata": {},
   "source": [
    "#### It's helpful to have totally new images and masks, to gain confidence that the model actually predicts masks reasonably well:"
   ]
  },
  {
   "cell_type": "code",
   "execution_count": 47,
   "id": "91c5a3f1",
   "metadata": {
    "collapsed": true
   },
   "outputs": [
    {
     "name": "stdout",
     "output_type": "stream",
     "text": [
      "Using path:  ../raw_data/raw_PRC/CXR_mask/\n",
      "Using bucket \n",
      "Loading local file:  ../raw_data/raw_PRC/CXR_mask/CHNCXR_0367_1_mask.png\n",
      "Loading local file:  ../raw_data/raw_PRC/CXR_mask/CHNCXR_0478_1_mask.png\n",
      "Loading local file:  ../raw_data/raw_PRC/CXR_mask/CHNCXR_0610_1_mask.png\n",
      "Loading local file:  ../raw_data/raw_PRC/CXR_mask/CHNCXR_0628_1_mask.png\n",
      "Loading local file:  ../raw_data/raw_PRC/CXR_mask/CHNCXR_0513_1_mask.png\n",
      "Loading local file:  ../raw_data/raw_PRC/CXR_mask/CHNCXR_0512_1_mask.png\n",
      "Loading local file:  ../raw_data/raw_PRC/CXR_mask/CHNCXR_0331_1_mask.png\n",
      "Loading local file:  ../raw_data/raw_PRC/CXR_mask/CHNCXR_0452_1_mask.png\n",
      "Loading local file:  ../raw_data/raw_PRC/CXR_mask/CHNCXR_0616_1_mask.png\n",
      "Loading local file:  ../raw_data/raw_PRC/CXR_mask/CHNCXR_0438_1_mask.png\n",
      "Loading local file:  ../raw_data/raw_PRC/CXR_mask/CHNCXR_0327_1_mask.png\n",
      "Loading local file:  ../raw_data/raw_PRC/CXR_mask/CHNCXR_0366_1_mask.png\n",
      "Loading local file:  ../raw_data/raw_PRC/CXR_mask/CHNCXR_0595_1_mask.png\n",
      "Loading local file:  ../raw_data/raw_PRC/CXR_mask/CHNCXR_0569_1_mask.png\n",
      "Loading local file:  ../raw_data/raw_PRC/CXR_mask/CHNCXR_0611_1_mask.png\n",
      "Loading local file:  ../raw_data/raw_PRC/CXR_mask/CHNCXR_0446_1_mask.png\n",
      "Loading local file:  ../raw_data/raw_PRC/CXR_mask/CHNCXR_0478_1_mask.png\n",
      "Loading local file:  ../raw_data/raw_PRC/CXR_mask/CHNCXR_0456_1_mask.png\n",
      "Loading local file:  ../raw_data/raw_PRC/CXR_mask/CHNCXR_0594_1_mask.png\n",
      "Loading local file:  ../raw_data/raw_PRC/CXR_mask/CHNCXR_0614_1_mask.png\n",
      "Loading local file:  ../raw_data/raw_PRC/CXR_mask/CHNCXR_0520_1_mask.png\n",
      "Loading local file:  ../raw_data/raw_PRC/CXR_mask/CHNCXR_0590_1_mask.png\n",
      "Loading local file:  ../raw_data/raw_PRC/CXR_mask/CHNCXR_0426_1_mask.png\n",
      "Loading local file:  ../raw_data/raw_PRC/CXR_mask/CHNCXR_0461_1_mask.png\n",
      "Loading local file:  ../raw_data/raw_PRC/CXR_mask/CHNCXR_0554_1_mask.png\n",
      "Loading local file:  ../raw_data/raw_PRC/CXR_mask/CHNCXR_0604_1_mask.png\n",
      "Loading local file:  ../raw_data/raw_PRC/CXR_mask/CHNCXR_0395_1_mask.png\n",
      "Loading local file:  ../raw_data/raw_PRC/CXR_mask/CHNCXR_0425_1_mask.png\n",
      "Loading local file:  ../raw_data/raw_PRC/CXR_mask/CHNCXR_0374_1_mask.png\n",
      "Loading local file:  ../raw_data/raw_PRC/CXR_mask/CHNCXR_0378_1_mask.png\n",
      "Loading local file:  ../raw_data/raw_PRC/CXR_mask/CHNCXR_0509_1_mask.png\n",
      "Loading local file:  ../raw_data/raw_PRC/CXR_mask/CHNCXR_0405_1_mask.png\n",
      "Loading local file:  ../raw_data/raw_PRC/CXR_mask/CHNCXR_0452_1_mask.png\n",
      "Loading local file:  ../raw_data/raw_PRC/CXR_mask/CHNCXR_0372_1_mask.png\n",
      "Loading local file:  ../raw_data/raw_PRC/CXR_mask/CHNCXR_0603_1_mask.png\n",
      "Loading local file:  ../raw_data/raw_PRC/CXR_mask/CHNCXR_0369_1_mask.png\n",
      "Loading local file:  ../raw_data/raw_PRC/CXR_mask/CHNCXR_0583_1_mask.png\n",
      "Loading local file:  ../raw_data/raw_PRC/CXR_mask/CHNCXR_0535_1_mask.png\n",
      "Loading local file:  ../raw_data/raw_PRC/CXR_mask/CHNCXR_0588_1_mask.png\n",
      "Loading local file:  ../raw_data/raw_PRC/CXR_mask/CHNCXR_0641_1_mask.png\n",
      "Loading local file:  ../raw_data/raw_PRC/CXR_mask/CHNCXR_0519_1_mask.png\n",
      "Loading local file:  ../raw_data/raw_PRC/CXR_mask/CHNCXR_0465_1_mask.png\n",
      "Loading local file:  ../raw_data/raw_PRC/CXR_mask/CHNCXR_0653_1_mask.png\n",
      "Loading local file:  ../raw_data/raw_PRC/CXR_mask/CHNCXR_0592_1_mask.png\n",
      "Loading local file:  ../raw_data/raw_PRC/CXR_mask/CHNCXR_0623_1_mask.png\n",
      "Loading local file:  ../raw_data/raw_PRC/CXR_mask/CHNCXR_0507_1_mask.png\n",
      "Loading local file:  ../raw_data/raw_PRC/CXR_mask/CHNCXR_0597_1_mask.png\n",
      "Loading local file:  ../raw_data/raw_PRC/CXR_mask/CHNCXR_0555_1_mask.png\n",
      "Loading local file:  ../raw_data/raw_PRC/CXR_mask/CHNCXR_0361_1_mask.png\n",
      "Loading local file:  ../raw_data/raw_PRC/CXR_mask/CHNCXR_0525_1_mask.png\n",
      "Loading local file:  ../raw_data/raw_PRC/CXR_mask/CHNCXR_0153_0_mask.png\n",
      "Loading local file:  ../raw_data/raw_PRC/CXR_mask/CHNCXR_0167_0_mask.png\n",
      "Loading local file:  ../raw_data/raw_PRC/CXR_mask/CHNCXR_0245_0_mask.png\n",
      "Loading local file:  ../raw_data/raw_PRC/CXR_mask/CHNCXR_0111_0_mask.png\n",
      "Loading local file:  ../raw_data/raw_PRC/CXR_mask/CHNCXR_0268_0_mask.png\n",
      "Loading local file:  ../raw_data/raw_PRC/CXR_mask/CHNCXR_0242_0_mask.png\n",
      "Loading local file:  ../raw_data/raw_PRC/CXR_mask/CHNCXR_0157_0_mask.png\n",
      "Loading local file:  ../raw_data/raw_PRC/CXR_mask/CHNCXR_0062_0_mask.png\n",
      "Loading local file:  ../raw_data/raw_PRC/CXR_mask/CHNCXR_0156_0_mask.png\n",
      "Loading local file:  ../raw_data/raw_PRC/CXR_mask/CHNCXR_0061_0_mask.png\n",
      "Loading local file:  ../raw_data/raw_PRC/CXR_mask/CHNCXR_0074_0_mask.png\n",
      "Loading local file:  ../raw_data/raw_PRC/CXR_mask/CHNCXR_0299_0_mask.png\n",
      "Loading local file:  ../raw_data/raw_PRC/CXR_mask/CHNCXR_0252_0_mask.png\n",
      "Loading local file:  ../raw_data/raw_PRC/CXR_mask/CHNCXR_0306_0_mask.png\n",
      "Loading local file:  ../raw_data/raw_PRC/CXR_mask/CHNCXR_0095_0_mask.png\n",
      "Loading local file:  ../raw_data/raw_PRC/CXR_mask/CHNCXR_0251_0_mask.png\n",
      "Loading local file:  ../raw_data/raw_PRC/CXR_mask/CHNCXR_0157_0_mask.png\n",
      "Loading local file:  ../raw_data/raw_PRC/CXR_mask/CHNCXR_0313_0_mask.png\n",
      "Loading local file:  ../raw_data/raw_PRC/CXR_mask/CHNCXR_0295_0_mask.png\n",
      "Loading local file:  ../raw_data/raw_PRC/CXR_mask/CHNCXR_0004_0_mask.png\n",
      "Loading local file:  ../raw_data/raw_PRC/CXR_mask/CHNCXR_0272_0_mask.png\n",
      "Loading local file:  ../raw_data/raw_PRC/CXR_mask/CHNCXR_0078_0_mask.png\n",
      "Loading local file:  ../raw_data/raw_PRC/CXR_mask/CHNCXR_0062_0_mask.png\n",
      "Loading local file:  ../raw_data/raw_PRC/CXR_mask/CHNCXR_0105_0_mask.png\n",
      "Loading local file:  ../raw_data/raw_PRC/CXR_mask/CHNCXR_0266_0_mask.png\n",
      "Loading local file:  ../raw_data/raw_PRC/CXR_mask/CHNCXR_0145_0_mask.png\n",
      "Loading local file:  ../raw_data/raw_PRC/CXR_mask/CHNCXR_0107_0_mask.png\n",
      "Loading local file:  ../raw_data/raw_PRC/CXR_mask/CHNCXR_0225_0_mask.png\n",
      "Loading local file:  ../raw_data/raw_PRC/CXR_mask/CHNCXR_0313_0_mask.png\n",
      "Loading local file:  ../raw_data/raw_PRC/CXR_mask/CHNCXR_0061_0_mask.png\n",
      "Loading local file:  ../raw_data/raw_PRC/CXR_mask/CHNCXR_0026_0_mask.png\n",
      "Loading local file:  ../raw_data/raw_PRC/CXR_mask/CHNCXR_0146_0_mask.png\n",
      "Loading local file:  ../raw_data/raw_PRC/CXR_mask/CHNCXR_0113_0_mask.png\n",
      "Loading local file:  ../raw_data/raw_PRC/CXR_mask/CHNCXR_0140_0_mask.png\n",
      "Loading local file:  ../raw_data/raw_PRC/CXR_mask/CHNCXR_0279_0_mask.png\n",
      "Loading local file:  ../raw_data/raw_PRC/CXR_mask/CHNCXR_0170_0_mask.png\n",
      "Loading local file:  ../raw_data/raw_PRC/CXR_mask/CHNCXR_0148_0_mask.png\n",
      "Loading local file:  ../raw_data/raw_PRC/CXR_mask/CHNCXR_0101_0_mask.png\n",
      "Loading local file:  ../raw_data/raw_PRC/CXR_mask/CHNCXR_0074_0_mask.png\n",
      "Loading local file:  ../raw_data/raw_PRC/CXR_mask/CHNCXR_0222_0_mask.png\n",
      "Loading local file:  ../raw_data/raw_PRC/CXR_mask/CHNCXR_0080_0_mask.png\n",
      "Loading local file:  ../raw_data/raw_PRC/CXR_mask/CHNCXR_0059_0_mask.png\n",
      "Loading local file:  ../raw_data/raw_PRC/CXR_mask/CHNCXR_0071_0_mask.png\n",
      "Loading local file:  ../raw_data/raw_PRC/CXR_mask/CHNCXR_0017_0_mask.png\n",
      "Loading local file:  ../raw_data/raw_PRC/CXR_mask/CHNCXR_0268_0_mask.png\n",
      "Loading local file:  ../raw_data/raw_PRC/CXR_mask/CHNCXR_0280_0_mask.png\n",
      "Loading local file:  ../raw_data/raw_PRC/CXR_mask/CHNCXR_0287_0_mask.png\n",
      "Loading local file:  ../raw_data/raw_PRC/CXR_mask/CHNCXR_0095_0_mask.png\n",
      "Loading local file:  ../raw_data/raw_PRC/CXR_mask/CHNCXR_0171_0_mask.png\n",
      "Loading local file:  ../raw_data/raw_PRC/CXR_mask/CHNCXR_0096_0_mask.png\n"
     ]
    }
   ],
   "source": [
    "new_masks, new_targets, new_ID = load_masks(100, get_all = False, get_random = True, balanced = True, path = path_mask)"
   ]
  },
  {
   "cell_type": "code",
   "execution_count": 48,
   "id": "83253e5b",
   "metadata": {
    "collapsed": true
   },
   "outputs": [
    {
     "name": "stdout",
     "output_type": "stream",
     "text": [
      "Loading local file:  ../raw_data/raw_PRC/CXR_png/CHNCXR_0452_1.png\n",
      "Loading local file:  ../raw_data/raw_PRC/CXR_png/CHNCXR_0452_1.png\n",
      "Loading local file:  ../raw_data/raw_PRC/CXR_png/CHNCXR_0366_1.png\n",
      "Loading local file:  ../raw_data/raw_PRC/CXR_png/CHNCXR_0513_1.png\n",
      "Loading local file:  ../raw_data/raw_PRC/CXR_png/CHNCXR_0004_0.png\n",
      "Loading local file:  ../raw_data/raw_PRC/CXR_png/CHNCXR_0554_1.png\n",
      "Loading local file:  ../raw_data/raw_PRC/CXR_png/CHNCXR_0610_1.png\n",
      "Loading local file:  ../raw_data/raw_PRC/CXR_png/CHNCXR_0594_1.png\n",
      "Loading local file:  ../raw_data/raw_PRC/CXR_png/CHNCXR_0569_1.png\n",
      "Loading local file:  ../raw_data/raw_PRC/CXR_png/CHNCXR_0225_0.png\n",
      "Loading local file:  ../raw_data/raw_PRC/CXR_png/CHNCXR_0145_0.png\n",
      "Loading local file:  ../raw_data/raw_PRC/CXR_png/CHNCXR_0279_0.png\n",
      "Loading local file:  ../raw_data/raw_PRC/CXR_png/CHNCXR_0535_1.png\n",
      "Loading local file:  ../raw_data/raw_PRC/CXR_png/CHNCXR_0061_0.png\n",
      "Loading local file:  ../raw_data/raw_PRC/CXR_png/CHNCXR_0061_0.png\n",
      "Loading local file:  ../raw_data/raw_PRC/CXR_png/CHNCXR_0280_0.png\n",
      "Loading local file:  ../raw_data/raw_PRC/CXR_png/CHNCXR_0614_1.png\n",
      "Loading local file:  ../raw_data/raw_PRC/CXR_png/CHNCXR_0299_0.png\n",
      "Loading local file:  ../raw_data/raw_PRC/CXR_png/CHNCXR_0078_0.png\n",
      "Loading local file:  ../raw_data/raw_PRC/CXR_png/CHNCXR_0590_1.png\n",
      "Loading local file:  ../raw_data/raw_PRC/CXR_png/CHNCXR_0167_0.png\n",
      "Loading local file:  ../raw_data/raw_PRC/CXR_png/CHNCXR_0266_0.png\n",
      "Loading local file:  ../raw_data/raw_PRC/CXR_png/CHNCXR_0592_1.png\n",
      "Loading local file:  ../raw_data/raw_PRC/CXR_png/CHNCXR_0653_1.png\n",
      "Loading local file:  ../raw_data/raw_PRC/CXR_png/CHNCXR_0616_1.png\n",
      "Loading local file:  ../raw_data/raw_PRC/CXR_png/CHNCXR_0327_1.png\n",
      "Loading local file:  ../raw_data/raw_PRC/CXR_png/CHNCXR_0026_0.png\n",
      "Loading local file:  ../raw_data/raw_PRC/CXR_png/CHNCXR_0242_0.png\n",
      "Loading local file:  ../raw_data/raw_PRC/CXR_png/CHNCXR_0456_1.png\n",
      "Loading local file:  ../raw_data/raw_PRC/CXR_png/CHNCXR_0595_1.png\n",
      "Loading local file:  ../raw_data/raw_PRC/CXR_png/CHNCXR_0080_0.png\n",
      "Loading local file:  ../raw_data/raw_PRC/CXR_png/CHNCXR_0555_1.png\n",
      "Loading local file:  ../raw_data/raw_PRC/CXR_png/CHNCXR_0611_1.png\n",
      "Loading local file:  ../raw_data/raw_PRC/CXR_png/CHNCXR_0245_0.png\n",
      "Loading local file:  ../raw_data/raw_PRC/CXR_png/CHNCXR_0101_0.png\n",
      "Loading local file:  ../raw_data/raw_PRC/CXR_png/CHNCXR_0509_1.png\n",
      "Loading local file:  ../raw_data/raw_PRC/CXR_png/CHNCXR_0059_0.png\n",
      "Loading local file:  ../raw_data/raw_PRC/CXR_png/CHNCXR_0146_0.png\n",
      "Loading local file:  ../raw_data/raw_PRC/CXR_png/CHNCXR_0287_0.png\n",
      "Loading local file:  ../raw_data/raw_PRC/CXR_png/CHNCXR_0306_0.png\n",
      "Loading local file:  ../raw_data/raw_PRC/CXR_png/CHNCXR_0512_1.png\n",
      "Loading local file:  ../raw_data/raw_PRC/CXR_png/CHNCXR_0367_1.png\n",
      "Loading local file:  ../raw_data/raw_PRC/CXR_png/CHNCXR_0597_1.png\n",
      "Loading local file:  ../raw_data/raw_PRC/CXR_png/CHNCXR_0222_0.png\n",
      "Loading local file:  ../raw_data/raw_PRC/CXR_png/CHNCXR_0107_0.png\n",
      "Loading local file:  ../raw_data/raw_PRC/CXR_png/CHNCXR_0062_0.png\n",
      "Loading local file:  ../raw_data/raw_PRC/CXR_png/CHNCXR_0062_0.png\n",
      "Loading local file:  ../raw_data/raw_PRC/CXR_png/CHNCXR_0588_1.png\n",
      "Loading local file:  ../raw_data/raw_PRC/CXR_png/CHNCXR_0105_0.png\n",
      "Loading local file:  ../raw_data/raw_PRC/CXR_png/CHNCXR_0378_1.png\n",
      "Loading local file:  ../raw_data/raw_PRC/CXR_png/CHNCXR_0140_0.png\n",
      "Loading local file:  ../raw_data/raw_PRC/CXR_png/CHNCXR_0628_1.png\n",
      "Loading local file:  ../raw_data/raw_PRC/CXR_png/CHNCXR_0361_1.png\n",
      "Loading local file:  ../raw_data/raw_PRC/CXR_png/CHNCXR_0405_1.png\n",
      "Loading local file:  ../raw_data/raw_PRC/CXR_png/CHNCXR_0525_1.png\n",
      "Loading local file:  ../raw_data/raw_PRC/CXR_png/CHNCXR_0438_1.png\n",
      "Loading local file:  ../raw_data/raw_PRC/CXR_png/CHNCXR_0331_1.png\n",
      "Loading local file:  ../raw_data/raw_PRC/CXR_png/CHNCXR_0374_1.png\n",
      "Loading local file:  ../raw_data/raw_PRC/CXR_png/CHNCXR_0171_0.png\n",
      "Loading local file:  ../raw_data/raw_PRC/CXR_png/CHNCXR_0272_0.png\n",
      "Loading local file:  ../raw_data/raw_PRC/CXR_png/CHNCXR_0157_0.png\n",
      "Loading local file:  ../raw_data/raw_PRC/CXR_png/CHNCXR_0157_0.png\n",
      "Loading local file:  ../raw_data/raw_PRC/CXR_png/CHNCXR_0153_0.png\n",
      "Loading local file:  ../raw_data/raw_PRC/CXR_png/CHNCXR_0446_1.png\n",
      "Loading local file:  ../raw_data/raw_PRC/CXR_png/CHNCXR_0252_0.png\n",
      "Loading local file:  ../raw_data/raw_PRC/CXR_png/CHNCXR_0372_1.png\n",
      "Loading local file:  ../raw_data/raw_PRC/CXR_png/CHNCXR_0313_0.png\n",
      "Loading local file:  ../raw_data/raw_PRC/CXR_png/CHNCXR_0313_0.png\n",
      "Loading local file:  ../raw_data/raw_PRC/CXR_png/CHNCXR_0507_1.png\n",
      "Loading local file:  ../raw_data/raw_PRC/CXR_png/CHNCXR_0148_0.png\n",
      "Loading local file:  ../raw_data/raw_PRC/CXR_png/CHNCXR_0641_1.png\n",
      "Loading local file:  ../raw_data/raw_PRC/CXR_png/CHNCXR_0604_1.png\n",
      "Loading local file:  ../raw_data/raw_PRC/CXR_png/CHNCXR_0095_0.png\n",
      "Loading local file:  ../raw_data/raw_PRC/CXR_png/CHNCXR_0095_0.png\n",
      "Loading local file:  ../raw_data/raw_PRC/CXR_png/CHNCXR_0425_1.png\n",
      "Loading local file:  ../raw_data/raw_PRC/CXR_png/CHNCXR_0369_1.png\n",
      "Loading local file:  ../raw_data/raw_PRC/CXR_png/CHNCXR_0071_0.png\n",
      "Loading local file:  ../raw_data/raw_PRC/CXR_png/CHNCXR_0017_0.png\n",
      "Loading local file:  ../raw_data/raw_PRC/CXR_png/CHNCXR_0603_1.png\n",
      "Loading local file:  ../raw_data/raw_PRC/CXR_png/CHNCXR_0113_0.png\n",
      "Loading local file:  ../raw_data/raw_PRC/CXR_png/CHNCXR_0156_0.png\n",
      "Loading local file:  ../raw_data/raw_PRC/CXR_png/CHNCXR_0268_0.png\n",
      "Loading local file:  ../raw_data/raw_PRC/CXR_png/CHNCXR_0268_0.png\n",
      "Loading local file:  ../raw_data/raw_PRC/CXR_png/CHNCXR_0295_0.png\n",
      "Loading local file:  ../raw_data/raw_PRC/CXR_png/CHNCXR_0074_0.png\n",
      "Loading local file:  ../raw_data/raw_PRC/CXR_png/CHNCXR_0074_0.png\n",
      "Loading local file:  ../raw_data/raw_PRC/CXR_png/CHNCXR_0519_1.png\n",
      "Loading local file:  ../raw_data/raw_PRC/CXR_png/CHNCXR_0111_0.png\n",
      "Loading local file:  ../raw_data/raw_PRC/CXR_png/CHNCXR_0170_0.png\n",
      "Loading local file:  ../raw_data/raw_PRC/CXR_png/CHNCXR_0465_1.png\n",
      "Loading local file:  ../raw_data/raw_PRC/CXR_png/CHNCXR_0461_1.png\n",
      "Loading local file:  ../raw_data/raw_PRC/CXR_png/CHNCXR_0520_1.png\n",
      "Loading local file:  ../raw_data/raw_PRC/CXR_png/CHNCXR_0478_1.png\n",
      "Loading local file:  ../raw_data/raw_PRC/CXR_png/CHNCXR_0478_1.png\n",
      "Loading local file:  ../raw_data/raw_PRC/CXR_png/CHNCXR_0395_1.png\n",
      "Loading local file:  ../raw_data/raw_PRC/CXR_png/CHNCXR_0251_0.png\n",
      "Loading local file:  ../raw_data/raw_PRC/CXR_png/CHNCXR_0623_1.png\n",
      "Loading local file:  ../raw_data/raw_PRC/CXR_png/CHNCXR_0426_1.png\n",
      "Loading local file:  ../raw_data/raw_PRC/CXR_png/CHNCXR_0096_0.png\n",
      "Loading local file:  ../raw_data/raw_PRC/CXR_png/CHNCXR_0583_1.png\n"
     ]
    }
   ],
   "source": [
    "new_images, new_IDs = load_train(new_ID, path = path_image)"
   ]
  },
  {
   "cell_type": "code",
   "execution_count": 49,
   "id": "c71c62b4",
   "metadata": {
    "collapsed": true
   },
   "outputs": [
    {
     "data": {
      "image/png": "[encoded data removed]",
      "text/plain": [
       "<Figure size 432x288 with 1 Axes>"
      ]
     },
     "metadata": {
      "needs_background": "light"
     },
     "output_type": "display_data"
    },
    {
     "data": {
      "image/png": "[encoded data removed]",
      "text/plain": [
       "<Figure size 432x288 with 1 Axes>"
      ]
     },
     "metadata": {
      "needs_background": "light"
     },
     "output_type": "display_data"
    }
   ],
   "source": [
    "new_xray_imgs = [tf.image.resize(new_images[i]/255, (224, 224)) for i in range(len(new_images))]\n",
    "new_xray_masks = [tf.image.resize(new_masks[i]/255, (224, 224)) for i in range(len(new_images))]\n",
    "\n",
    "plt.imshow(new_xray_imgs[0])\n",
    "plt.show()\n",
    "\n",
    "plt.imshow(new_xray_masks[0])\n",
    "plt.show()"
   ]
  },
  {
   "cell_type": "markdown",
   "id": "86cbe986",
   "metadata": {},
   "source": [
    "#### Now, with these new images/masks, we print-out the outputs and compare them:"
   ]
  },
  {
   "cell_type": "code",
   "execution_count": 54,
   "id": "368b2688",
   "metadata": {},
   "outputs": [
    {
     "data": {
      "image/png": "[encoded data removed]",
      "text/plain": [
       "<Figure size 432x288 with 1 Axes>"
      ]
     },
     "metadata": {
      "needs_background": "light"
     },
     "output_type": "display_data"
    }
   ],
   "source": [
    "plt.imshow(unet_to_mask_img(new_xray_imgs[5]))\n",
    "plt.show()"
   ]
  },
  {
   "cell_type": "code",
   "execution_count": 52,
   "id": "d49cef30",
   "metadata": {},
   "outputs": [
    {
     "data": {
      "image/png": "[encoded data removed]",
      "text/plain": [
       "<Figure size 432x288 with 1 Axes>"
      ]
     },
     "metadata": {
      "needs_background": "light"
     },
     "output_type": "display_data"
    }
   ],
   "source": [
    "plt.imshow(new_xray_masks[5])\n",
    "plt.show()"
   ]
  },
  {
   "cell_type": "markdown",
   "id": "5346248f",
   "metadata": {},
   "source": [
    "#### Now that we see that the model works OK on these new lungs, we need to output a set of model-generated masks for the downstream pathology-prediction model. We do this here:"
   ]
  },
  {
   "cell_type": "code",
   "execution_count": 57,
   "id": "7d812b07",
   "metadata": {},
   "outputs": [
    {
     "name": "stdout",
     "output_type": "stream",
     "text": [
      "Untitled_DAM.ipynb                  seg_test.ipynb\r\n",
      "loading_xrays.ipynb                 segmentation_attempt_DAM.ipynb\r\n",
      "loading_xrays_DAM.ipynb             segmentation_attempt_DAM_nice.ipynb\r\n",
      "\u001b[1m\u001b[36mmodel\u001b[m\u001b[m                               segmentation_attempt_DAM_v1.ipynb\r\n",
      "pipeline_groundwork_DAM.ipynb       segmentation_attempt_DAM_v2.ipynb\r\n",
      "seg_pred_stitch_DAM.ipynb           segmentation_attempt_DAM_v3.ipynb\r\n"
     ]
    }
   ],
   "source": [
    "!ls"
   ]
  },
  {
   "cell_type": "code",
   "execution_count": 58,
   "id": "3decbc9d",
   "metadata": {},
   "outputs": [],
   "source": [
    "loaded_model = tf.keras.models.load_model('model')"
   ]
  },
  {
   "cell_type": "code",
   "execution_count": 67,
   "id": "706205b8",
   "metadata": {},
   "outputs": [],
   "source": [
    "def unet_to_mask_img(raw_lung_xray,mask_model=seg_model):\n",
    "    if mask_model == seg_model:        \n",
    "        img_funct = mask_model.model.predict(raw_lung_xray[tf.newaxis, ...]).squeeze()\n",
    "        img_funct = np.sign(img_funct)\n",
    "        img_funct = (1+np.resize(img_funct, (224, 224, 1)))/2\n",
    "    else:\n",
    "        img_funct = tf.image.resize(raw_lung_xray, (128, 128))\n",
    "        img_funct = mask_model.predict(img_funct[tf.newaxis, ...]).squeeze()\n",
    "        img_funct = np.sign(img_funct)\n",
    "        img_funct = (1+np.resize(img_funct, (128, 128, 1)))/2\n",
    "    return img_funct"
   ]
  },
  {
   "cell_type": "code",
   "execution_count": 68,
   "id": "04e0cd97",
   "metadata": {},
   "outputs": [
    {
     "data": {
      "image/png": "[encoded data removed]",
      "text/plain": [
       "<Figure size 432x288 with 1 Axes>"
      ]
     },
     "metadata": {
      "needs_background": "light"
     },
     "output_type": "display_data"
    },
    {
     "data": {
      "image/png": "[encoded data removed]",
      "text/plain": [
       "<Figure size 432x288 with 1 Axes>"
      ]
     },
     "metadata": {
      "needs_background": "light"
     },
     "output_type": "display_data"
    }
   ],
   "source": [
    "plt.imshow(unet_to_mask_img(new_xray_imgs[5]))\n",
    "plt.show()\n",
    "\n",
    "plt.imshow(unet_to_mask_img(new_xray_imgs[5],mask_model=loaded_model))\n",
    "plt.show()"
   ]
  },
  {
   "cell_type": "markdown",
   "id": "0e5448a3",
   "metadata": {},
   "source": [
    "### Finally, we feed these modified outputs of the segmentation-model into the classifier model, and see how well it does."
   ]
  },
  {
   "cell_type": "code",
   "execution_count": null,
   "id": "e14c7e7b",
   "metadata": {},
   "outputs": [],
   "source": []
  }
 ],
 "metadata": {
  "kernelspec": {
   "display_name": "Python 3",
   "language": "python",
   "name": "python3"
  },
  "language_info": {
   "codemirror_mode": {
    "name": "ipython",
    "version": 3
   },
   "file_extension": ".py",
   "mimetype": "text/x-python",
   "name": "python",
   "nbconvert_exporter": "python",
   "pygments_lexer": "ipython3",
   "version": "3.8.6"
  }
 },
 "nbformat": 4,
 "nbformat_minor": 5
}
